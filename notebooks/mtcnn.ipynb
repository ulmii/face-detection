{
 "cells": [
  {
   "cell_type": "code",
   "execution_count": 1,
   "id": "vital-engineer",
   "metadata": {},
   "outputs": [],
   "source": [
    "%matplotlib inline\n",
    "\n",
    "import sys\n",
    "sys.path.append('../src/')\n",
    "import warnings\n",
    "warnings.filterwarnings('ignore')\n",
    "from benchmark.tools import *\n",
    "from benchmark.models import Detector\n",
    "from benchmark.utils import TsvHandle, run_detection, run_detection_video\n",
    "from benchmark.stats import calc_precision_recall, calc_ap\n",
    "\n",
    "import pandas as pd\n",
    "import numpy as np\n",
    "import seaborn as sns\n",
    "import matplotlib.pyplot as plt\n",
    "from scipy.integrate import simps\n",
    "plt.rcParams[\"figure.figsize\"] = (15, 10)\n",
    "\n",
    "import torch\n",
    "import wider_dataset\n",
    "import choke_point_dataset\n",
    "\n",
    "# https://github.com/timesler/facenet-pytorch/\n",
    "from facenet_pytorch import MTCNN"
   ]
  },
  {
   "cell_type": "markdown",
   "id": "emerging-blink",
   "metadata": {},
   "source": [
    "# MTCNN Image Detection"
   ]
  },
  {
   "cell_type": "code",
   "execution_count": 3,
   "id": "accepted-pacific",
   "metadata": {},
   "outputs": [],
   "source": [
    "train, test, validation = tfds.load('wider_dataset', split=['train', 'test', 'validation'])"
   ]
  },
  {
   "cell_type": "code",
   "execution_count": 4,
   "id": "corrected-diary",
   "metadata": {},
   "outputs": [],
   "source": [
    "data = validation"
   ]
  },
  {
   "cell_type": "code",
   "execution_count": 5,
   "id": "potential-opera",
   "metadata": {},
   "outputs": [],
   "source": [
    "class MtcnnDetector(Detector):\n",
    "    def __init__(self):\n",
    "        device = torch.device('cuda:0' if torch.cuda.is_available() else 'cpu')\n",
    "        print('Running on device: {}'.format(device))\n",
    "        \n",
    "        self.detector = MTCNN(margin=14,\n",
    "                            factor=0.6,\n",
    "                            keep_all=True,\n",
    "                            device=device)\n",
    "    \n",
    "    def detect(self, image):\n",
    "        boxes, confidence = self.detector.detect(image)\n",
    "        return boxes, confidence"
   ]
  },
  {
   "cell_type": "code",
   "execution_count": 6,
   "id": "innocent-distributor",
   "metadata": {},
   "outputs": [
    {
     "name": "stdout",
     "output_type": "stream",
     "text": [
      "Running on device: cpu\n"
     ]
    }
   ],
   "source": [
    "mtcnn = MtcnnDetector()"
   ]
  },
  {
   "cell_type": "code",
   "execution_count": 7,
   "id": "revolutionary-ultimate",
   "metadata": {
    "scrolled": false
   },
   "outputs": [
    {
     "ename": "KeyboardInterrupt",
     "evalue": "",
     "output_type": "error",
     "traceback": [
      "\u001b[1;31m---------------------------------------------------------------------------\u001b[0m",
      "\u001b[1;31mKeyboardInterrupt\u001b[0m                         Traceback (most recent call last)",
      "\u001b[1;32m<ipython-input-7-107b4c608c10>\u001b[0m in \u001b[0;36m<module>\u001b[1;34m\u001b[0m\n\u001b[1;32m----> 1\u001b[1;33m \u001b[1;32mwith\u001b[0m \u001b[0mTsvHandle\u001b[0m\u001b[1;33m(\u001b[0m\u001b[1;34m'mtcnn_filtered'\u001b[0m\u001b[1;33m)\u001b[0m \u001b[1;32mas\u001b[0m \u001b[0mtsv\u001b[0m\u001b[1;33m:\u001b[0m\u001b[1;33m\u001b[0m\u001b[1;33m\u001b[0m\u001b[0m\n\u001b[0m\u001b[0;32m      2\u001b[0m     \u001b[0mrun_detection\u001b[0m\u001b[1;33m(\u001b[0m\u001b[0mtsv\u001b[0m\u001b[1;33m,\u001b[0m \u001b[0mdata\u001b[0m\u001b[1;33m,\u001b[0m \u001b[0mmtcnn\u001b[0m\u001b[1;33m,\u001b[0m \u001b[1;32mNone\u001b[0m\u001b[1;33m,\u001b[0m \u001b[1;32mFalse\u001b[0m\u001b[1;33m,\u001b[0m \u001b[1;32mFalse\u001b[0m\u001b[1;33m,\u001b[0m \u001b[1;32mNone\u001b[0m\u001b[1;33m,\u001b[0m \u001b[1;36m2000\u001b[0m\u001b[1;33m)\u001b[0m\u001b[1;33m\u001b[0m\u001b[1;33m\u001b[0m\u001b[0m\n",
      "\u001b[1;32mD:\\P\\mgr\\face-detection\\src\\benchmark\\utils\\tsvhandle.py\u001b[0m in \u001b[0;36m__init__\u001b[1;34m(self, name)\u001b[0m\n\u001b[0;32m     13\u001b[0m         \u001b[0mPath\u001b[0m\u001b[1;33m(\u001b[0m\u001b[1;34m\"./results\"\u001b[0m\u001b[1;33m)\u001b[0m\u001b[1;33m.\u001b[0m\u001b[0mmkdir\u001b[0m\u001b[1;33m(\u001b[0m\u001b[0mparents\u001b[0m\u001b[1;33m=\u001b[0m\u001b[1;32mTrue\u001b[0m\u001b[1;33m,\u001b[0m \u001b[0mexist_ok\u001b[0m\u001b[1;33m=\u001b[0m\u001b[1;32mTrue\u001b[0m\u001b[1;33m)\u001b[0m\u001b[1;33m\u001b[0m\u001b[1;33m\u001b[0m\u001b[0m\n\u001b[0;32m     14\u001b[0m \u001b[1;33m\u001b[0m\u001b[0m\n\u001b[1;32m---> 15\u001b[1;33m         \u001b[0mself\u001b[0m\u001b[1;33m.\u001b[0m\u001b[0menv\u001b[0m \u001b[1;33m=\u001b[0m \u001b[0mEnvMetadata\u001b[0m\u001b[1;33m(\u001b[0m\u001b[1;33m)\u001b[0m\u001b[1;33m\u001b[0m\u001b[1;33m\u001b[0m\u001b[0m\n\u001b[0m\u001b[0;32m     16\u001b[0m         \u001b[0mself\u001b[0m\u001b[1;33m.\u001b[0m\u001b[0mload\u001b[0m \u001b[1;33m=\u001b[0m \u001b[0mEnvLoad\u001b[0m\u001b[1;33m(\u001b[0m\u001b[1;33m)\u001b[0m\u001b[1;33m\u001b[0m\u001b[1;33m\u001b[0m\u001b[0m\n\u001b[0;32m     17\u001b[0m \u001b[1;33m\u001b[0m\u001b[0m\n",
      "\u001b[1;32mD:\\P\\mgr\\face-detection\\src\\benchmark\\utils\\envmetadata.py\u001b[0m in \u001b[0;36m__init__\u001b[1;34m(self)\u001b[0m\n\u001b[0;32m      8\u001b[0m \u001b[1;32mclass\u001b[0m \u001b[0mEnvMetadata\u001b[0m\u001b[1;33m:\u001b[0m\u001b[1;33m\u001b[0m\u001b[1;33m\u001b[0m\u001b[0m\n\u001b[0;32m      9\u001b[0m     \u001b[1;32mdef\u001b[0m \u001b[0m__init__\u001b[0m\u001b[1;33m(\u001b[0m\u001b[0mself\u001b[0m\u001b[1;33m)\u001b[0m\u001b[1;33m:\u001b[0m\u001b[1;33m\u001b[0m\u001b[1;33m\u001b[0m\u001b[0m\n\u001b[1;32m---> 10\u001b[1;33m         \u001b[0mself\u001b[0m\u001b[1;33m.\u001b[0m\u001b[0mpython\u001b[0m \u001b[1;33m=\u001b[0m \u001b[0mcpuinfo\u001b[0m\u001b[1;33m.\u001b[0m\u001b[0mget_cpu_info\u001b[0m\u001b[1;33m(\u001b[0m\u001b[1;33m)\u001b[0m\u001b[1;33m[\u001b[0m\u001b[1;34m'python_version'\u001b[0m\u001b[1;33m]\u001b[0m\u001b[1;33m\u001b[0m\u001b[1;33m\u001b[0m\u001b[0m\n\u001b[0m\u001b[0;32m     11\u001b[0m         \u001b[0mself\u001b[0m\u001b[1;33m.\u001b[0m\u001b[0mcpu_model\u001b[0m \u001b[1;33m=\u001b[0m \u001b[0mcpuinfo\u001b[0m\u001b[1;33m.\u001b[0m\u001b[0mget_cpu_info\u001b[0m\u001b[1;33m(\u001b[0m\u001b[1;33m)\u001b[0m\u001b[1;33m[\u001b[0m\u001b[1;34m'brand_raw'\u001b[0m\u001b[1;33m]\u001b[0m\u001b[1;33m\u001b[0m\u001b[1;33m\u001b[0m\u001b[0m\n\u001b[0;32m     12\u001b[0m         \u001b[0mself\u001b[0m\u001b[1;33m.\u001b[0m\u001b[0mgpus\u001b[0m \u001b[1;33m=\u001b[0m \u001b[0mself\u001b[0m\u001b[1;33m.\u001b[0m\u001b[0mget_available_gpus\u001b[0m\u001b[1;33m(\u001b[0m\u001b[1;33m)\u001b[0m\u001b[1;33m\u001b[0m\u001b[1;33m\u001b[0m\u001b[0m\n",
      "\u001b[1;32mc:\\users\\konrad ulman\\appdata\\local\\programs\\python\\python38\\lib\\site-packages\\cpuinfo\\cpuinfo.py\u001b[0m in \u001b[0;36mget_cpu_info\u001b[1;34m()\u001b[0m\n\u001b[0;32m   2738\u001b[0m         \u001b[1;32mimport\u001b[0m \u001b[0mjson\u001b[0m\u001b[1;33m\u001b[0m\u001b[1;33m\u001b[0m\u001b[0m\n\u001b[0;32m   2739\u001b[0m \u001b[1;33m\u001b[0m\u001b[0m\n\u001b[1;32m-> 2740\u001b[1;33m         \u001b[0moutput\u001b[0m \u001b[1;33m=\u001b[0m \u001b[0mget_cpu_info_json\u001b[0m\u001b[1;33m(\u001b[0m\u001b[1;33m)\u001b[0m\u001b[1;33m\u001b[0m\u001b[1;33m\u001b[0m\u001b[0m\n\u001b[0m\u001b[0;32m   2741\u001b[0m \u001b[1;33m\u001b[0m\u001b[0m\n\u001b[0;32m   2742\u001b[0m         \u001b[1;31m# Convert JSON to Python with non unicode strings\u001b[0m\u001b[1;33m\u001b[0m\u001b[1;33m\u001b[0m\u001b[1;33m\u001b[0m\u001b[0m\n",
      "\u001b[1;32mc:\\users\\konrad ulman\\appdata\\local\\programs\\python\\python38\\lib\\site-packages\\cpuinfo\\cpuinfo.py\u001b[0m in \u001b[0;36mget_cpu_info_json\u001b[1;34m()\u001b[0m\n\u001b[0;32m   2720\u001b[0m                 \u001b[0mcommand\u001b[0m \u001b[1;33m=\u001b[0m \u001b[1;33m[\u001b[0m\u001b[0msys\u001b[0m\u001b[1;33m.\u001b[0m\u001b[0mexecutable\u001b[0m\u001b[1;33m,\u001b[0m \u001b[0m__file__\u001b[0m\u001b[1;33m,\u001b[0m \u001b[1;34m'--json'\u001b[0m\u001b[1;33m]\u001b[0m\u001b[1;33m\u001b[0m\u001b[1;33m\u001b[0m\u001b[0m\n\u001b[0;32m   2721\u001b[0m                 \u001b[0mp1\u001b[0m \u001b[1;33m=\u001b[0m \u001b[0mPopen\u001b[0m\u001b[1;33m(\u001b[0m\u001b[0mcommand\u001b[0m\u001b[1;33m,\u001b[0m \u001b[0mstdout\u001b[0m\u001b[1;33m=\u001b[0m\u001b[0mPIPE\u001b[0m\u001b[1;33m,\u001b[0m \u001b[0mstderr\u001b[0m\u001b[1;33m=\u001b[0m\u001b[0mPIPE\u001b[0m\u001b[1;33m,\u001b[0m \u001b[0mstdin\u001b[0m\u001b[1;33m=\u001b[0m\u001b[0mPIPE\u001b[0m\u001b[1;33m)\u001b[0m\u001b[1;33m\u001b[0m\u001b[1;33m\u001b[0m\u001b[0m\n\u001b[1;32m-> 2722\u001b[1;33m                 \u001b[0moutput\u001b[0m \u001b[1;33m=\u001b[0m \u001b[0mp1\u001b[0m\u001b[1;33m.\u001b[0m\u001b[0mcommunicate\u001b[0m\u001b[1;33m(\u001b[0m\u001b[1;33m)\u001b[0m\u001b[1;33m[\u001b[0m\u001b[1;36m0\u001b[0m\u001b[1;33m]\u001b[0m\u001b[1;33m\u001b[0m\u001b[1;33m\u001b[0m\u001b[0m\n\u001b[0m\u001b[0;32m   2723\u001b[0m \u001b[1;33m\u001b[0m\u001b[0m\n\u001b[0;32m   2724\u001b[0m                 \u001b[1;32mif\u001b[0m \u001b[0mp1\u001b[0m\u001b[1;33m.\u001b[0m\u001b[0mreturncode\u001b[0m \u001b[1;33m!=\u001b[0m \u001b[1;36m0\u001b[0m\u001b[1;33m:\u001b[0m\u001b[1;33m\u001b[0m\u001b[1;33m\u001b[0m\u001b[0m\n",
      "\u001b[1;32mc:\\users\\konrad ulman\\appdata\\local\\programs\\python\\python38\\lib\\subprocess.py\u001b[0m in \u001b[0;36mcommunicate\u001b[1;34m(self, input, timeout)\u001b[0m\n\u001b[0;32m   1026\u001b[0m \u001b[1;33m\u001b[0m\u001b[0m\n\u001b[0;32m   1027\u001b[0m             \u001b[1;32mtry\u001b[0m\u001b[1;33m:\u001b[0m\u001b[1;33m\u001b[0m\u001b[1;33m\u001b[0m\u001b[0m\n\u001b[1;32m-> 1028\u001b[1;33m                 \u001b[0mstdout\u001b[0m\u001b[1;33m,\u001b[0m \u001b[0mstderr\u001b[0m \u001b[1;33m=\u001b[0m \u001b[0mself\u001b[0m\u001b[1;33m.\u001b[0m\u001b[0m_communicate\u001b[0m\u001b[1;33m(\u001b[0m\u001b[0minput\u001b[0m\u001b[1;33m,\u001b[0m \u001b[0mendtime\u001b[0m\u001b[1;33m,\u001b[0m \u001b[0mtimeout\u001b[0m\u001b[1;33m)\u001b[0m\u001b[1;33m\u001b[0m\u001b[1;33m\u001b[0m\u001b[0m\n\u001b[0m\u001b[0;32m   1029\u001b[0m             \u001b[1;32mexcept\u001b[0m \u001b[0mKeyboardInterrupt\u001b[0m\u001b[1;33m:\u001b[0m\u001b[1;33m\u001b[0m\u001b[1;33m\u001b[0m\u001b[0m\n\u001b[0;32m   1030\u001b[0m                 \u001b[1;31m# https://bugs.python.org/issue25942\u001b[0m\u001b[1;33m\u001b[0m\u001b[1;33m\u001b[0m\u001b[1;33m\u001b[0m\u001b[0m\n",
      "\u001b[1;32mc:\\users\\konrad ulman\\appdata\\local\\programs\\python\\python38\\lib\\subprocess.py\u001b[0m in \u001b[0;36m_communicate\u001b[1;34m(self, input, endtime, orig_timeout)\u001b[0m\n\u001b[0;32m   1397\u001b[0m             \u001b[1;31m# calls communicate again.\u001b[0m\u001b[1;33m\u001b[0m\u001b[1;33m\u001b[0m\u001b[1;33m\u001b[0m\u001b[0m\n\u001b[0;32m   1398\u001b[0m             \u001b[1;32mif\u001b[0m \u001b[0mself\u001b[0m\u001b[1;33m.\u001b[0m\u001b[0mstdout\u001b[0m \u001b[1;32mis\u001b[0m \u001b[1;32mnot\u001b[0m \u001b[1;32mNone\u001b[0m\u001b[1;33m:\u001b[0m\u001b[1;33m\u001b[0m\u001b[1;33m\u001b[0m\u001b[0m\n\u001b[1;32m-> 1399\u001b[1;33m                 \u001b[0mself\u001b[0m\u001b[1;33m.\u001b[0m\u001b[0mstdout_thread\u001b[0m\u001b[1;33m.\u001b[0m\u001b[0mjoin\u001b[0m\u001b[1;33m(\u001b[0m\u001b[0mself\u001b[0m\u001b[1;33m.\u001b[0m\u001b[0m_remaining_time\u001b[0m\u001b[1;33m(\u001b[0m\u001b[0mendtime\u001b[0m\u001b[1;33m)\u001b[0m\u001b[1;33m)\u001b[0m\u001b[1;33m\u001b[0m\u001b[1;33m\u001b[0m\u001b[0m\n\u001b[0m\u001b[0;32m   1400\u001b[0m                 \u001b[1;32mif\u001b[0m \u001b[0mself\u001b[0m\u001b[1;33m.\u001b[0m\u001b[0mstdout_thread\u001b[0m\u001b[1;33m.\u001b[0m\u001b[0mis_alive\u001b[0m\u001b[1;33m(\u001b[0m\u001b[1;33m)\u001b[0m\u001b[1;33m:\u001b[0m\u001b[1;33m\u001b[0m\u001b[1;33m\u001b[0m\u001b[0m\n\u001b[0;32m   1401\u001b[0m                     \u001b[1;32mraise\u001b[0m \u001b[0mTimeoutExpired\u001b[0m\u001b[1;33m(\u001b[0m\u001b[0mself\u001b[0m\u001b[1;33m.\u001b[0m\u001b[0margs\u001b[0m\u001b[1;33m,\u001b[0m \u001b[0morig_timeout\u001b[0m\u001b[1;33m)\u001b[0m\u001b[1;33m\u001b[0m\u001b[1;33m\u001b[0m\u001b[0m\n",
      "\u001b[1;32mc:\\users\\konrad ulman\\appdata\\local\\programs\\python\\python38\\lib\\threading.py\u001b[0m in \u001b[0;36mjoin\u001b[1;34m(self, timeout)\u001b[0m\n\u001b[0;32m   1009\u001b[0m \u001b[1;33m\u001b[0m\u001b[0m\n\u001b[0;32m   1010\u001b[0m         \u001b[1;32mif\u001b[0m \u001b[0mtimeout\u001b[0m \u001b[1;32mis\u001b[0m \u001b[1;32mNone\u001b[0m\u001b[1;33m:\u001b[0m\u001b[1;33m\u001b[0m\u001b[1;33m\u001b[0m\u001b[0m\n\u001b[1;32m-> 1011\u001b[1;33m             \u001b[0mself\u001b[0m\u001b[1;33m.\u001b[0m\u001b[0m_wait_for_tstate_lock\u001b[0m\u001b[1;33m(\u001b[0m\u001b[1;33m)\u001b[0m\u001b[1;33m\u001b[0m\u001b[1;33m\u001b[0m\u001b[0m\n\u001b[0m\u001b[0;32m   1012\u001b[0m         \u001b[1;32melse\u001b[0m\u001b[1;33m:\u001b[0m\u001b[1;33m\u001b[0m\u001b[1;33m\u001b[0m\u001b[0m\n\u001b[0;32m   1013\u001b[0m             \u001b[1;31m# the behavior of a negative timeout isn't documented, but\u001b[0m\u001b[1;33m\u001b[0m\u001b[1;33m\u001b[0m\u001b[1;33m\u001b[0m\u001b[0m\n",
      "\u001b[1;32mc:\\users\\konrad ulman\\appdata\\local\\programs\\python\\python38\\lib\\threading.py\u001b[0m in \u001b[0;36m_wait_for_tstate_lock\u001b[1;34m(self, block, timeout)\u001b[0m\n\u001b[0;32m   1025\u001b[0m         \u001b[1;32mif\u001b[0m \u001b[0mlock\u001b[0m \u001b[1;32mis\u001b[0m \u001b[1;32mNone\u001b[0m\u001b[1;33m:\u001b[0m  \u001b[1;31m# already determined that the C code is done\u001b[0m\u001b[1;33m\u001b[0m\u001b[1;33m\u001b[0m\u001b[0m\n\u001b[0;32m   1026\u001b[0m             \u001b[1;32massert\u001b[0m \u001b[0mself\u001b[0m\u001b[1;33m.\u001b[0m\u001b[0m_is_stopped\u001b[0m\u001b[1;33m\u001b[0m\u001b[1;33m\u001b[0m\u001b[0m\n\u001b[1;32m-> 1027\u001b[1;33m         \u001b[1;32melif\u001b[0m \u001b[0mlock\u001b[0m\u001b[1;33m.\u001b[0m\u001b[0macquire\u001b[0m\u001b[1;33m(\u001b[0m\u001b[0mblock\u001b[0m\u001b[1;33m,\u001b[0m \u001b[0mtimeout\u001b[0m\u001b[1;33m)\u001b[0m\u001b[1;33m:\u001b[0m\u001b[1;33m\u001b[0m\u001b[1;33m\u001b[0m\u001b[0m\n\u001b[0m\u001b[0;32m   1028\u001b[0m             \u001b[0mlock\u001b[0m\u001b[1;33m.\u001b[0m\u001b[0mrelease\u001b[0m\u001b[1;33m(\u001b[0m\u001b[1;33m)\u001b[0m\u001b[1;33m\u001b[0m\u001b[1;33m\u001b[0m\u001b[0m\n\u001b[0;32m   1029\u001b[0m             \u001b[0mself\u001b[0m\u001b[1;33m.\u001b[0m\u001b[0m_stop\u001b[0m\u001b[1;33m(\u001b[0m\u001b[1;33m)\u001b[0m\u001b[1;33m\u001b[0m\u001b[1;33m\u001b[0m\u001b[0m\n",
      "\u001b[1;31mKeyboardInterrupt\u001b[0m: "
     ]
    }
   ],
   "source": [
    "with TsvHandle('mtcnn_filtered') as tsv:\n",
    "    run_detection(tsv, data, mtcnn, None, False, False, None, 2000)"
   ]
  },
  {
   "cell_type": "markdown",
   "id": "native-facial",
   "metadata": {},
   "source": [
    "# Results"
   ]
  },
  {
   "cell_type": "code",
   "execution_count": null,
   "id": "prerequisite-solution",
   "metadata": {},
   "outputs": [],
   "source": [
    "path = 'mtcnn-20220418-125039'\n",
    "path_filtered = 'mtcnn_filtered-20220427-180935'\n",
    "\n",
    "df = pd.read_csv('./results/{}.tsv'.format(path), sep='\\t', header=0, parse_dates=[\"Timestamp\"])\n",
    "df_filtered = pd.read_csv('./results/{}.tsv'.format(path_filtered), sep='\\t', header=0, parse_dates=[\"Timestamp\"])\n",
    "\n",
    "df_ap = pd.read_csv('./results/{}-ap.tsv'.format(path), sep='\\t', header=0)\n",
    "df_ap = df_ap.sort_values(by=['Confidence'], ignore_index=True, ascending=False)\n",
    "\n",
    "df_ap_filtered = pd.read_csv('./results/{}-ap.tsv'.format(path_filtered), sep='\\t', header=0)\n",
    "df_ap_filtered = df_ap_filtered.sort_values(by=['Confidence'], ignore_index=True, ascending=False)\n",
    "\n",
    "df_load = pd.read_csv('./results/{}-load.tsv'.format(path), sep='\\t', header=0, parse_dates=[\"Timestamp\"])\n",
    "df_meta = pd.read_csv('./results/{}-metadata.tsv'.format(path), sep='\\t', header=0)"
   ]
  },
  {
   "cell_type": "code",
   "execution_count": null,
   "id": "early-stage",
   "metadata": {},
   "outputs": [],
   "source": [
    "df_meta"
   ]
  },
  {
   "cell_type": "code",
   "execution_count": null,
   "id": "certified-robertson",
   "metadata": {},
   "outputs": [],
   "source": [
    "df_load"
   ]
  },
  {
   "cell_type": "code",
   "execution_count": null,
   "id": "desirable-indian",
   "metadata": {},
   "outputs": [],
   "source": [
    "def plot_data_over_time(time, data, label):\n",
    "    plt.plot(time, data)\n",
    "    plt.xlabel('Time') \n",
    "    plt.ylabel(label)\n",
    "    plt.grid(True)\n",
    "    plt.show()"
   ]
  },
  {
   "cell_type": "code",
   "execution_count": null,
   "id": "alpine-topic",
   "metadata": {},
   "outputs": [],
   "source": [
    "plot_data_over_time(df_load['Timestamp'], df_load['CPU_Load'], 'CPU Load')"
   ]
  },
  {
   "cell_type": "code",
   "execution_count": null,
   "id": "analyzed-father",
   "metadata": {},
   "outputs": [],
   "source": [
    "plot_data_over_time(df_load['Timestamp'], df_load['RAM_Avail'], 'Available memory [GB]')"
   ]
  },
  {
   "cell_type": "code",
   "execution_count": null,
   "id": "advisory-scottish",
   "metadata": {},
   "outputs": [],
   "source": [
    "sns.FacetGrid(df_load, height=6).map(sns.kdeplot, 'CPU_Load').add_legend()\n",
    "plt.title('CPU Load Distribution')\n",
    "plt.xlim(0, 100)\n",
    "plt.show()"
   ]
  },
  {
   "cell_type": "code",
   "execution_count": null,
   "id": "military-leonard",
   "metadata": {},
   "outputs": [],
   "source": [
    "sns.FacetGrid(df_load, height=6).map(sns.kdeplot, 'RAM_Avail').add_legend()\n",
    "plt.title('Memory Availability Distribution')\n",
    "plt.show()"
   ]
  },
  {
   "cell_type": "code",
   "execution_count": null,
   "id": "indoor-narrative",
   "metadata": {},
   "outputs": [],
   "source": [
    "df"
   ]
  },
  {
   "cell_type": "code",
   "execution_count": null,
   "id": "dimensional-picture",
   "metadata": {},
   "outputs": [],
   "source": [
    "df.describe()"
   ]
  },
  {
   "cell_type": "markdown",
   "id": "moderate-reynolds",
   "metadata": {},
   "source": [
    "### Generate Precision/Recall columns"
   ]
  },
  {
   "cell_type": "code",
   "execution_count": null,
   "id": "material-partition",
   "metadata": {},
   "outputs": [],
   "source": [
    "all_gts = df['Positives'].sum() + df['Negatives'].sum()\n",
    "df_ap = calc_precision_recall(df_ap, all_gts)\n",
    "\n",
    "df_ap"
   ]
  },
  {
   "cell_type": "code",
   "execution_count": null,
   "id": "empirical-channels",
   "metadata": {},
   "outputs": [],
   "source": [
    "all_gts_filtered = df_filtered['Positives'].sum() + df_filtered['Negatives'].sum()\n",
    "df_ap_filtered = calc_precision_recall(df_ap_filtered, all_gts_filtered)\n",
    "\n",
    "df_ap_filtered"
   ]
  },
  {
   "cell_type": "code",
   "execution_count": null,
   "id": "hungry-latin",
   "metadata": {},
   "outputs": [],
   "source": [
    "def plot_pr(df_data, title):\n",
    "    ap = calc_ap(df_data['Precision@25'], df_data['Recall@25'])\n",
    "    plt.plot(df_data['Recall@25'], df_data['Precision@25'], color='darkcyan', lw=3, label=\"AP@0.25=%.2f\" % ap)\n",
    "    plt.axvline(x = df_data['Recall@25'][df_data.index[-1]], ymax=df_data['Precision@25'][df_data.index[-1]], color = 'darkcyan')\n",
    "    \n",
    "    ap = calc_ap(df_data['Precision@50'], df_data['Recall@50'])\n",
    "    plt.plot(df_data['Recall@50'], df_data['Precision@50'], color='darkorange', lw=3, label=\"AP@0.5=%.2f\" % ap)\n",
    "    plt.axvline(x = df_data['Recall@50'][df_data.index[-1]], ymax=df_data['Precision@50'][df_data.index[-1]], color = 'darkorange')\n",
    "    \n",
    "    ap = calc_ap(df_data['Precision@75'], df_data['Recall@75'])\n",
    "    plt.plot(df_data['Recall@75'], df_data['Precision@75'], color='mediumorchid', lw=3, label=\"AP@0.75=%.2f\" % ap)\n",
    "    plt.axvline(x = df_data['Recall@75'][df_data.index[-1]], ymax=df_data['Precision@75'][df_data.index[-1]], color = 'mediumorchid')\n",
    "    \n",
    "    plt.xlim(0, 1.00)\n",
    "    plt.ylim(0, 1.00)\n",
    "\n",
    "    plt.title(title)\n",
    "    plt.xlabel('Recall')\n",
    "    plt.ylabel('Precision')\n",
    "    plt.legend(loc=\"lower right\", prop={'size': 16})\n",
    "    plt.grid(True)\n",
    "\n",
    "    plt.show()"
   ]
  },
  {
   "cell_type": "code",
   "execution_count": null,
   "id": "operating-secondary",
   "metadata": {},
   "outputs": [],
   "source": [
    "plot_pr(df_ap, 'MTCNN Average Precision on filtered WIDER FACE')"
   ]
  },
  {
   "cell_type": "code",
   "execution_count": null,
   "id": "disciplinary-ghost",
   "metadata": {},
   "outputs": [],
   "source": [
    "plot_pr(df_ap_filtered, 'MTCNN Average Precision on filtered WIDER FACE')"
   ]
  },
  {
   "cell_type": "markdown",
   "id": "fifth-waterproof",
   "metadata": {},
   "source": [
    "# MTCNN Video detection"
   ]
  },
  {
   "cell_type": "code",
   "execution_count": 2,
   "id": "victorian-button",
   "metadata": {},
   "outputs": [],
   "source": [
    "test = tfds.load('choke_point', split=['test'])"
   ]
  },
  {
   "cell_type": "code",
   "execution_count": 3,
   "id": "billion-shopping",
   "metadata": {},
   "outputs": [],
   "source": [
    "data = test[0]"
   ]
  },
  {
   "cell_type": "code",
   "execution_count": 4,
   "id": "foster-michigan",
   "metadata": {},
   "outputs": [
    {
     "name": "stdout",
     "output_type": "stream",
     "text": [
      "Running on device: cpu\n"
     ]
    }
   ],
   "source": [
    "class MtcnnDetector(Detector):\n",
    "    def __init__(self):\n",
    "        device = torch.device('cuda:0' if torch.cuda.is_available() else 'cpu')\n",
    "        print('Running on device: {}'.format(device))\n",
    "        \n",
    "        self.detector = MTCNN(margin=14,\n",
    "                            factor=0.6,\n",
    "                            keep_all=True,\n",
    "                            device=device)\n",
    "    \n",
    "    def detect(self, image):\n",
    "        boxes, confidence = self.detector.detect(image)\n",
    "        return boxes, confidence\n",
    "    \n",
    "mtcnn = MtcnnDetector()"
   ]
  },
  {
   "cell_type": "code",
   "execution_count": 5,
   "id": "dangerous-jordan",
   "metadata": {},
   "outputs": [],
   "source": [
    "stt_aps, mean_confidences, mean_inference_times = run_detection_video(\n",
    "    samples=data, \n",
    "    detector=mtcnn,\n",
    "    display_results=False,\n",
    "    save_anim=\"mtcnn\"\n",
    ")"
   ]
  },
  {
   "cell_type": "code",
   "execution_count": 9,
   "id": "academic-defendant",
   "metadata": {
    "scrolled": false
   },
   "outputs": [
    {
     "name": "stdout",
     "output_type": "stream",
     "text": [
      "Mean Video STT-AP: 0.69\n",
      "Mean confidence of boxes in all videos: 1.00\n",
      "Mean inference time of all frames: 84.42ms\n"
     ]
    }
   ],
   "source": [
    "print(\"Mean Video STT-AP: {0:.2f}\".format(np.mean(stt_aps)))\n",
    "print(\"Mean confidence of boxes in all videos: {:.2f}\".format(np.mean(mean_confidences)))\n",
    "print(\"Mean inference time of all frames: {:.2f}ms\".format(np.mean(mean_inference_times) / 1e+6))"
   ]
  }
 ],
 "metadata": {
  "kernelspec": {
   "display_name": "Python 3",
   "language": "python",
   "name": "python3"
  },
  "language_info": {
   "codemirror_mode": {
    "name": "ipython",
    "version": 3
   },
   "file_extension": ".py",
   "mimetype": "text/x-python",
   "name": "python",
   "nbconvert_exporter": "python",
   "pygments_lexer": "ipython3",
   "version": "3.8.8"
  }
 },
 "nbformat": 4,
 "nbformat_minor": 5
}
