{
 "cells": [
  {
   "cell_type": "code",
   "execution_count": 1,
   "id": "vital-engineer",
   "metadata": {},
   "outputs": [],
   "source": [
    "import sys\n",
    "sys.path.append('../src/')\n",
    "\n",
    "from benchmark.tools import *\n",
    "from benchmark.models import Accuracy, Face, Box, Prediction, ImageFaces\n",
    "from benchmark.utils import TsvHandle, load_aflw, tf_to_image_faces, get_box_id, run_detection\n",
    "from benchmark.stats import predictions_summary\n",
    "\n",
    "import wider_dataset\n",
    "from facenet_pytorch import MTCNN"
   ]
  },
  {
   "cell_type": "code",
   "execution_count": 2,
   "id": "accepted-pacific",
   "metadata": {},
   "outputs": [],
   "source": [
    "train, test, validation = tfds.load('wider_dataset', split=['train', 'test', 'validation'])"
   ]
  },
  {
   "cell_type": "code",
   "execution_count": 3,
   "id": "corrected-diary",
   "metadata": {},
   "outputs": [],
   "source": [
    "data = train.concatenate(test).concatenate(validation)"
   ]
  },
  {
   "cell_type": "code",
   "execution_count": 4,
   "id": "universal-creativity",
   "metadata": {},
   "outputs": [
    {
     "name": "stdout",
     "output_type": "stream",
     "text": [
      "Running detection, total samples: 3000 [sample/3000]"
     ]
    }
   ],
   "source": [
    "total_data = 3000\n",
    "\n",
    "sys.stdout.write(\"Running detection, total samples: %d [sample/%d]\" % (total_data, total_data))"
   ]
  },
  {
   "cell_type": "code",
   "execution_count": 5,
   "id": "prepared-cornell",
   "metadata": {},
   "outputs": [],
   "source": [
    "mtcnn = MTCNN(margin=14,\n",
    "    factor=0.6,\n",
    "    keep_all=True)"
   ]
  },
  {
   "cell_type": "code",
   "execution_count": 6,
   "id": "western-regular",
   "metadata": {},
   "outputs": [],
   "source": [
    "detector = lambda image: mtcnn.detect(image)[0]"
   ]
  },
  {
   "cell_type": "code",
   "execution_count": 7,
   "id": "revolutionary-ultimate",
   "metadata": {
    "scrolled": false
   },
   "outputs": [
    {
     "name": "stdout",
     "output_type": "stream",
     "text": [
      "Running detection, total samples: 50\n",
      "[====================] 100% - Sample: 50/50"
     ]
    }
   ],
   "source": [
    "with TsvHandle('mtcnn') as tsv:\n",
    "    run_detection(tsv, validation.take(50), detector, False, False)"
   ]
  }
 ],
 "metadata": {
  "kernelspec": {
   "display_name": "Python 3",
   "language": "python",
   "name": "python3"
  },
  "language_info": {
   "codemirror_mode": {
    "name": "ipython",
    "version": 3
   },
   "file_extension": ".py",
   "mimetype": "text/x-python",
   "name": "python",
   "nbconvert_exporter": "python",
   "pygments_lexer": "ipython3",
   "version": "3.8.8"
  }
 },
 "nbformat": 4,
 "nbformat_minor": 5
}
