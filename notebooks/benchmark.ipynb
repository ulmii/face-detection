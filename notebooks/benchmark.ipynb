{
 "cells": [
  {
   "cell_type": "code",
   "execution_count": 1,
   "id": "abandoned-immunology",
   "metadata": {},
   "outputs": [],
   "source": [
    "import warnings\n",
    "warnings.filterwarnings('ignore')\n",
    "\n",
    "import sys\n",
    "sys.path.append('../src/')\n",
    "\n",
    "from benchmark.models import *"
   ]
  },
  {
   "cell_type": "code",
   "execution_count": 7,
   "id": "naughty-basement",
   "metadata": {},
   "outputs": [
    {
     "name": "stdout",
     "output_type": "stream",
     "text": [
      "Precision: 0.5\n",
      "Recall: 1.0\n",
      "F1 Score: 0.6666666666666666\n",
      "Ious: [1.0, 0.0]\n",
      "Positives: 1, False Positives: 1, Negatives: 0\n"
     ]
    }
   ],
   "source": [
    "faces = [Face(1, Box(box_id=1, x1=39, y1=63, x2=203, y2=112))]\n",
    "detections = [Box(box_id=2, x1=39, y1=63, x2=203, y2=112), Box(box_id=3, x1=39, y1=63, x2=203, y2=112)]\n",
    "\n",
    "img_faces = ImageFaces(1, 'path', faces)\n",
    "prediction = img_faces.calculate_prediction(detections, None)\n",
    "print(prediction.stats())"
   ]
  },
  {
   "cell_type": "code",
   "execution_count": 8,
   "id": "defensive-restriction",
   "metadata": {},
   "outputs": [
    {
     "name": "stdout",
     "output_type": "stream",
     "text": [
      "Precision: 1.0\n",
      "Recall: 0.5\n",
      "F1 Score: 0.6666666666666666\n",
      "Ious: [1.0]\n",
      "Positives: 1, False Positives: 0, Negatives: 1\n"
     ]
    }
   ],
   "source": [
    "faces = [Face(1, Box(box_id=1, x1=39, y1=63, x2=203, y2=112)), Face(2, Box(box_id=1, x1=39, y1=63, x2=203, y2=112))]\n",
    "detections = [Box(box_id=2, x1=39, y1=63, x2=203, y2=112)]\n",
    "\n",
    "img_faces = ImageFaces(1, 'path', faces)\n",
    "prediction = img_faces.calculate_prediction(detections, None)\n",
    "print(prediction.stats())"
   ]
  }
 ],
 "metadata": {
  "kernelspec": {
   "display_name": "Python 3",
   "language": "python",
   "name": "python3"
  },
  "language_info": {
   "codemirror_mode": {
    "name": "ipython",
    "version": 3
   },
   "file_extension": ".py",
   "mimetype": "text/x-python",
   "name": "python",
   "nbconvert_exporter": "python",
   "pygments_lexer": "ipython3",
   "version": "3.8.8"
  }
 },
 "nbformat": 4,
 "nbformat_minor": 5
}
