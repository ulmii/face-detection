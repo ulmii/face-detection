{
 "cells": [
  {
   "cell_type": "code",
   "execution_count": 1,
   "id": "crucial-houston",
   "metadata": {},
   "outputs": [],
   "source": [
    "import sys\n",
    "sys.path.append('../src/')\n",
    "\n",
    "import wider_dataset\n",
    "\n",
    "from benchmark.tools import *\n",
    "from benchmark.models import Detector\n",
    "from benchmark.utils import TsvHandle, run_detection, tf_to_image_faces\n",
    "\n",
    "# https://github.com/serengil/tensorflow-101/blob/master/python/opencv-dnn-face-detection.ipynb\n",
    "# https://github.com/AyushExel/ml4face-detection/blob/master/Final-Face%20Detection%20Notebook.ipynb\n",
    "\n",
    "# https://raw.githubusercontent.com/opencv/opencv/4.5.4/samples/dnn/face_detector/deploy.prototxt\n",
    "# https://github.com/opencv/opencv_3rdparty/raw/dnn_samples_face_detector_20170830/res10_300x300_ssd_iter_140000.caffemodel"
   ]
  },
  {
   "cell_type": "code",
   "execution_count": 2,
   "id": "fuzzy-secretariat",
   "metadata": {},
   "outputs": [],
   "source": [
    "train, test, validation = tfds.load('wider_dataset', split=['train', 'test', 'validation'])\n",
    "data = validation"
   ]
  },
  {
   "cell_type": "code",
   "execution_count": 3,
   "id": "executive-hobby",
   "metadata": {},
   "outputs": [],
   "source": [
    "class ResNetDetector(Detector):\n",
    "    TARGET_SIZE = (300, 300)\n",
    "    \n",
    "    CONF_THRESHOLD = 0.5\n",
    "    NMS_THRESHOLD = 0.4\n",
    "    \n",
    "    def __init__(self):\n",
    "        self.detector = cv2.dnn.readNetFromCaffe(\"./resnet/deploy.prototxt.txt\", \"./resnet/res10_300x300_ssd_iter_140000.caffemodel\")\n",
    "    \n",
    "    def detect(self, image):\n",
    "        (h, w) = image.shape[:2]\n",
    "        blob = cv2.dnn.blobFromImage(cv2.resize(image, (300, 300)), 1.0,\n",
    "            (300, 300), (104.0, 177.0, 123.0))\n",
    "\n",
    "        self.detector.setInput(blob)\n",
    "        detections = self.detector.forward()\n",
    "        \n",
    "        boxes = []\n",
    "        confidence = []\n",
    "        \n",
    "        for i in range(0, detections.shape[2]):\n",
    "            conf = detections[0, 0, i, 2]\n",
    "            if conf > 0.5:\n",
    "                confidence.append(conf)\n",
    "                box = detections[0, 0, i, 3:7] * np.array([w, h, w, h])\n",
    "                (startX, startY, endX, endY) = box.astype(\"int\")\n",
    "                boxes.append([startX, startY, endX, endY])\n",
    "\n",
    "        return boxes, confidence\n",
    "    \n",
    "resnet = ResNetDetector()"
   ]
  },
  {
   "cell_type": "code",
   "execution_count": 4,
   "id": "sitting-concentration",
   "metadata": {
    "scrolled": false
   },
   "outputs": [
    {
     "name": "stdout",
     "output_type": "stream",
     "text": [
      "Running detection\n",
      "[====================] 100% [3226/3226]"
     ]
    }
   ],
   "source": [
    "with TsvHandle('resnet') as tsv:\n",
    "    run_detection(tsv, data, resnet, cv2.COLOR_RGB2BGR, False, False)"
   ]
  }
 ],
 "metadata": {
  "kernelspec": {
   "display_name": "Python 3",
   "language": "python",
   "name": "python3"
  },
  "language_info": {
   "codemirror_mode": {
    "name": "ipython",
    "version": 3
   },
   "file_extension": ".py",
   "mimetype": "text/x-python",
   "name": "python",
   "nbconvert_exporter": "python",
   "pygments_lexer": "ipython3",
   "version": "3.8.8"
  }
 },
 "nbformat": 4,
 "nbformat_minor": 5
}
