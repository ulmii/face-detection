{
 "cells": [
  {
   "cell_type": "code",
   "execution_count": 1,
   "id": "vital-engineer",
   "metadata": {},
   "outputs": [],
   "source": [
    "import sys\n",
    "sys.path.append('../src/')\n",
    "\n",
    "import wider_dataset\n",
    "\n",
    "from benchmark.tools import *\n",
    "from benchmark.models import Detector\n",
    "from benchmark.utils import TsvHandle, run_detection, tf_to_image_faces\n",
    "\n",
    "# https://github.com/sthanhng/yoloface\n",
    "from yoloface import get_outputs_names, post_process"
   ]
  },
  {
   "cell_type": "code",
   "execution_count": 2,
   "id": "accepted-pacific",
   "metadata": {},
   "outputs": [],
   "source": [
    "train, test, validation = tfds.load('wider_dataset', split=['train', 'test', 'validation'])\n",
    "data = validation"
   ]
  },
  {
   "cell_type": "code",
   "execution_count": 3,
   "id": "defensive-favorite",
   "metadata": {},
   "outputs": [],
   "source": [
    "class YoloFaceDetector(Detector):\n",
    "    IMG_WIDTH = 416\n",
    "    IMG_HEIGHT = 416\n",
    "\n",
    "    CONF_THRESHOLD = 0.5\n",
    "    NMS_THRESHOLD = 0.4\n",
    "    \n",
    "    def __init__(self):\n",
    "        model_cfg = '../src/yoloface/cfg/yolov3-face.cfg'\n",
    "        model_weights = '../src/yoloface/model-weights/yolov3-wider_16000.weights'\n",
    "        \n",
    "        self.detector = cv2.dnn.readNetFromDarknet(model_cfg, model_weights)\n",
    "        self.detector.setPreferableBackend(cv2.dnn.DNN_BACKEND_OPENCV)\n",
    "        self.detector.setPreferableTarget(cv2.dnn.DNN_TARGET_CPU)\n",
    "    \n",
    "    def detect(self, image):\n",
    "        blob = cv2.dnn.blobFromImage(image, 1 / 255, (self.IMG_WIDTH, self.IMG_HEIGHT),\n",
    "                                     [0, 0, 0], 1, crop=False)\n",
    "        self.detector.setInput(blob)\n",
    "        outs = self.detector.forward(get_outputs_names(self.detector))\n",
    "\n",
    "        boxes, confidence = post_process(image, outs, self.CONF_THRESHOLD, self.NMS_THRESHOLD)\n",
    "\n",
    "        return boxes, confidence\n",
    "    \n",
    "yolo_face = YoloFaceDetector()"
   ]
  },
  {
   "cell_type": "code",
   "execution_count": 4,
   "id": "responsible-cooling",
   "metadata": {
    "scrolled": false
   },
   "outputs": [
    {
     "name": "stdout",
     "output_type": "stream",
     "text": [
      "Running detection\n",
      "[====================] 100% [3226/3226]"
     ]
    }
   ],
   "source": [
    "with TsvHandle('yoloface') as tsv:\n",
    "    run_detection(tsv, data, yolo_face, cv2.COLOR_RGB2BGR, True, False)"
   ]
  }
 ],
 "metadata": {
  "kernelspec": {
   "display_name": "Python 3",
   "language": "python",
   "name": "python3"
  },
  "language_info": {
   "codemirror_mode": {
    "name": "ipython",
    "version": 3
   },
   "file_extension": ".py",
   "mimetype": "text/x-python",
   "name": "python",
   "nbconvert_exporter": "python",
   "pygments_lexer": "ipython3",
   "version": "3.8.8"
  }
 },
 "nbformat": 4,
 "nbformat_minor": 5
}
