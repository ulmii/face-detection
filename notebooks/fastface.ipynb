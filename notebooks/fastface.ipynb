{
 "cells": [
  {
   "cell_type": "code",
   "execution_count": 2,
   "id": "3bcf21cf",
   "metadata": {},
   "outputs": [
    {
     "ename": "ModuleNotFoundError",
     "evalue": "No module named 'fastface'",
     "output_type": "error",
     "traceback": [
      "\u001b[1;31m---------------------------------------------------------------------------\u001b[0m",
      "\u001b[1;31mModuleNotFoundError\u001b[0m                       Traceback (most recent call last)",
      "\u001b[1;32m<ipython-input-2-f1582f98f93a>\u001b[0m in \u001b[0;36m<module>\u001b[1;34m\u001b[0m\n\u001b[0;32m      8\u001b[0m \u001b[1;32mimport\u001b[0m \u001b[0mwider_dataset\u001b[0m\u001b[1;33m\u001b[0m\u001b[1;33m\u001b[0m\u001b[0m\n\u001b[0;32m      9\u001b[0m \u001b[1;31m# https://github.com/borhanMorphy/fastface\u001b[0m\u001b[1;33m\u001b[0m\u001b[1;33m\u001b[0m\u001b[1;33m\u001b[0m\u001b[0m\n\u001b[1;32m---> 10\u001b[1;33m \u001b[1;32mimport\u001b[0m \u001b[0mfastface\u001b[0m \u001b[1;32mas\u001b[0m \u001b[0mff\u001b[0m\u001b[1;33m\u001b[0m\u001b[1;33m\u001b[0m\u001b[0m\n\u001b[0m",
      "\u001b[1;31mModuleNotFoundError\u001b[0m: No module named 'fastface'"
     ]
    }
   ],
   "source": [
    "import sys\n",
    "sys.path.append('../src/')\n",
    "\n",
    "from benchmark.tools import *\n",
    "from benchmark.models import Detector\n",
    "from benchmark.utils import TsvHandle, run_detection\n",
    "\n",
    "import wider_dataset\n",
    "# https://github.com/borhanMorphy/fastface\n",
    "import fastface as ff"
   ]
  },
  {
   "cell_type": "code",
   "execution_count": null,
   "id": "accepted-pacific",
   "metadata": {},
   "outputs": [],
   "source": [
    "train, test, validation = tfds.load('wider_dataset', split=['train', 'test', 'validation'])\n",
    "data = validation"
   ]
  },
  {
   "cell_type": "code",
   "execution_count": null,
   "id": "defensive-favorite",
   "metadata": {},
   "outputs": [],
   "source": [
    "class FastFaceDetector(Detector):\n",
    "    def __init__(self):\n",
    "        model_weights = \"./lffd_original.ckpt\"\n",
    "        self.detector = ff.FaceDetector.from_pretrained(\"./lffd_original.ckpt\")\n",
    "        self.detector.summarize()\n",
    "    \n",
    "    def detect(self, image):\n",
    "        try:\n",
    "            predicted, = self.detector.predict(image, det_threshold=.8, iou_threshold=.4)\n",
    "            return predicted['boxes'], predicted['scores']\n",
    "        except Exception:\n",
    "            return [], []\n",
    "    \n",
    "fast_face = FastFaceDetector()"
   ]
  },
  {
   "cell_type": "code",
   "execution_count": null,
   "id": "responsible-cooling",
   "metadata": {
    "scrolled": false
   },
   "outputs": [],
   "source": [
    "with TsvHandle('fastface_filtered') as tsv:\n",
    "    run_detection(tsv, data, fast_face, None, False, False, None)"
   ]
  }
 ],
 "metadata": {
  "kernelspec": {
   "display_name": "Python 3",
   "language": "python",
   "name": "python3"
  },
  "language_info": {
   "codemirror_mode": {
    "name": "ipython",
    "version": 3
   },
   "file_extension": ".py",
   "mimetype": "text/x-python",
   "name": "python",
   "nbconvert_exporter": "python",
   "pygments_lexer": "ipython3",
   "version": "3.8.8"
  }
 },
 "nbformat": 4,
 "nbformat_minor": 5
}
