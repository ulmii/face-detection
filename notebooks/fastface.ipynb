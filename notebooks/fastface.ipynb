{
 "cells": [
  {
   "cell_type": "code",
   "execution_count": 3,
   "id": "3bcf21cf",
   "metadata": {},
   "outputs": [],
   "source": [
    "import sys\n",
    "sys.path.append('../src/')\n",
    "\n",
    "from benchmark.tools import *\n",
    "from benchmark.models import Detector\n",
    "from benchmark.utils import TsvHandle, run_detection\n",
    "\n",
    "import wider_dataset\n",
    "# https://github.com/borhanMorphy/fastface\n",
    "import fastface as ff"
   ]
  },
  {
   "cell_type": "code",
   "execution_count": 4,
   "id": "accepted-pacific",
   "metadata": {},
   "outputs": [],
   "source": [
    "train, test, validation = tfds.load('wider_dataset', split=['train', 'test', 'validation'])\n",
    "data = validation"
   ]
  },
  {
   "cell_type": "code",
   "execution_count": 5,
   "id": "defensive-favorite",
   "metadata": {},
   "outputs": [
    {
     "name": "stderr",
     "output_type": "stream",
     "text": [
      "D:\\anaconda3\\envs\\fastface2\\lib\\site-packages\\torch\\functional.py:568: UserWarning: torch.meshgrid: in an upcoming release, it will be required to pass the indexing argument. (Triggered internally at  C:\\actions-runner\\_work\\pytorch\\pytorch\\builder\\windows\\pytorch\\aten\\src\\ATen\\native\\TensorShape.cpp:2228.)\n",
      "  return _VF.meshgrid(tensors, **kwargs)  # type: ignore[attr-defined]\n",
      "\n",
      "  | Name | Type | Params\n",
      "------------------------------\n",
      "0 | arch | LFFD | 2.3 M \n",
      "------------------------------\n",
      "2.3 M     Trainable params\n",
      "0         Non-trainable params\n",
      "2.3 M     Total params\n",
      "9.158     Total estimated model params size (MB)\n"
     ]
    }
   ],
   "source": [
    "class FastFaceDetector(Detector):\n",
    "    def __init__(self):\n",
    "        model_weights = \"./lffd_original.ckpt\"\n",
    "        self.detector = ff.FaceDetector.from_pretrained(\"./lffd_original.ckpt\")\n",
    "        self.detector.summarize()\n",
    "    \n",
    "    def detect(self, image):\n",
    "        try:\n",
    "            predicted, = self.detector.predict(image, det_threshold=.8, iou_threshold=.4)\n",
    "            return predicted['boxes'], predicted['scores']\n",
    "        except Exception:\n",
    "            return [], []\n",
    "    \n",
    "fast_face = FastFaceDetector()"
   ]
  },
  {
   "cell_type": "code",
   "execution_count": 6,
   "id": "responsible-cooling",
   "metadata": {
    "scrolled": false
   },
   "outputs": [
    {
     "name": "stdout",
     "output_type": "stream",
     "text": [
      "Running detection\n",
      "[====================] 100% [3226/3226]"
     ]
    }
   ],
   "source": [
    "with TsvHandle('fastface_filtered') as tsv:\n",
    "    run_detection(tsv, data, fast_face, None, False, False, None, 2000)"
   ]
  }
 ],
 "metadata": {
  "kernelspec": {
   "display_name": "Python 3",
   "language": "python",
   "name": "python3"
  },
  "language_info": {
   "codemirror_mode": {
    "name": "ipython",
    "version": 3
   },
   "file_extension": ".py",
   "mimetype": "text/x-python",
   "name": "python",
   "nbconvert_exporter": "python",
   "pygments_lexer": "ipython3",
   "version": "3.8.8"
  }
 },
 "nbformat": 4,
 "nbformat_minor": 5
}
