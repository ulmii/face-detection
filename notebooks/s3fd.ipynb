{
 "cells": [
  {
   "cell_type": "code",
   "execution_count": 1,
   "id": "vital-engineer",
   "metadata": {},
   "outputs": [],
   "source": [
    "%matplotlib inline\n",
    "\n",
    "import sys\n",
    "sys.path.append('../src/')\n",
    "\n",
    "import warnings\n",
    "warnings.filterwarnings('ignore')\n",
    "\n",
    "import cv2\n",
    "import torch\n",
    "import wider_dataset\n",
    "import choke_point_dataset\n",
    "\n",
    "import pandas as pd\n",
    "import numpy as np\n",
    "import seaborn as sns\n",
    "import tensorflow_datasets as tfds\n",
    "import matplotlib.pyplot as plt\n",
    "plt.rcParams[\"figure.figsize\"] = (15, 10)\n",
    "\n",
    "from benchmark.models import Detector\n",
    "from benchmark.core import TsvHandle, run_detection, run_detection_video\n",
    "from benchmark.stats import calc_precision_recall, calc_ap\n",
    "\n",
    "# https://github.com/kiselev1189/face-detector-s3fd\n",
    "from sfd_face_detector.detect_engine import FaceDetectionEngine"
   ]
  },
  {
   "cell_type": "markdown",
   "id": "floating-andorra",
   "metadata": {},
   "source": [
    "# S3FD  Image detection"
   ]
  },
  {
   "cell_type": "code",
   "execution_count": 2,
   "id": "accepted-pacific",
   "metadata": {},
   "outputs": [],
   "source": [
    "train, test, validation = tfds.load('wider_dataset', split=['train', 'test', 'validation'])\n",
    "data = validation"
   ]
  },
  {
   "cell_type": "code",
   "execution_count": 3,
   "id": "defensive-favorite",
   "metadata": {},
   "outputs": [
    {
     "name": "stdout",
     "output_type": "stream",
     "text": [
      "Running on device: cpu\n"
     ]
    }
   ],
   "source": [
    "class S3fdDetector(Detector):\n",
    "    def __init__(self):\n",
    "        self.detector = FaceDetectionEngine(weights_path=\"./models/s3fd/s3fd_convert.pth\")\n",
    "        device = torch.device('cuda:0' if torch.cuda.is_available() else 'cpu')\n",
    "        print('Running on device: {}'.format(device))\n",
    "        \n",
    "    def detect(self, image):\n",
    "        preds, scores = self.detector.predict(image, dilate_bbox=False)\n",
    "\n",
    "        return preds, scores\n",
    "\n",
    "s3fd = S3fdDetector()"
   ]
  },
  {
   "cell_type": "code",
   "execution_count": 4,
   "id": "common-radius",
   "metadata": {},
   "outputs": [
    {
     "name": "stdout",
     "output_type": "stream",
     "text": [
      "Running detection\n",
      "[====================] 100% [2/2]\n",
      "./results/s3fd-20220613-171019.tsv\n",
      "./results/s3fd-20220613-171019-ap.tsv\n",
      "./results/s3fd-20220613-171019-load.tsv\n",
      "./results/s3fd-20220613-171019-metadata.tsv\n"
     ]
    }
   ],
   "source": [
    "with TsvHandle('s3fd') as tsv:\n",
    "    path, ap_path, load_path, meta_path = run_detection(\n",
    "        tsv_handle = tsv, \n",
    "        samples = data, \n",
    "        detector = s3fd\n",
    "    )\n",
    "\n",
    "print(\"\")\n",
    "print(path)\n",
    "print(ap_path)\n",
    "print(load_path)\n",
    "print(meta_path)"
   ]
  },
  {
   "cell_type": "code",
   "execution_count": 5,
   "id": "responsible-cooling",
   "metadata": {
    "scrolled": false
   },
   "outputs": [
    {
     "name": "stdout",
     "output_type": "stream",
     "text": [
      "Running detection\n",
      "[====================] 100% [2/2]\n",
      "./results/s3fd_filtered-20220613-171050.tsv\n",
      "./results/s3fd_filtered-20220613-171050-ap.tsv\n",
      "./results/s3fd_filtered-20220613-171050-load.tsv\n",
      "./results/s3fd_filtered-20220613-171050-metadata.tsv\n"
     ]
    }
   ],
   "source": [
    "with TsvHandle('s3fd_filtered') as tsv:\n",
    "    path_filtered, ap_path_filtered, load_path_filtered, meta_path_filtered = run_detection(\n",
    "        tsv_handle = tsv, \n",
    "        samples = data, \n",
    "        detector = s3fd, \n",
    "        filter_area = 2000\n",
    "    )\n",
    "\n",
    "print(\"\")\n",
    "print(path_filtered)\n",
    "print(ap_path_filtered)\n",
    "print(load_path_filtered)\n",
    "print(meta_path_filtered)"
   ]
  },
  {
   "cell_type": "markdown",
   "id": "twenty-visitor",
   "metadata": {},
   "source": [
    "# Results"
   ]
  },
  {
   "cell_type": "code",
   "execution_count": 6,
   "id": "three-mitchell",
   "metadata": {},
   "outputs": [],
   "source": [
    "df = pd.read_csv(path, sep='\\t', header=0, parse_dates=[\"Timestamp\"])\n",
    "df_filtered = pd.read_csv(path_filtered, sep='\\t', header=0, parse_dates=[\"Timestamp\"])\n",
    "\n",
    "df_ap = pd.read_csv(ap_path, sep='\\t', header=0)\n",
    "df_ap = df_ap.sort_values(by=['Confidence'], ignore_index=True, ascending=False)\n",
    "\n",
    "df_ap_filtered = pd.read_csv(ap_path_filtered, sep='\\t', header=0)\n",
    "df_ap_filtered = df_ap_filtered.sort_values(by=['Confidence'], ignore_index=True, ascending=False)\n",
    "\n",
    "df_load = pd.read_csv(load_path, sep='\\t', header=0, parse_dates=[\"Timestamp\"])\n",
    "df_meta = pd.read_csv(meta_path, sep='\\t', header=0)"
   ]
  },
  {
   "cell_type": "code",
   "execution_count": 7,
   "id": "conventional-label",
   "metadata": {},
   "outputs": [
    {
     "data": {
      "text/html": [
       "<div>\n",
       "<style scoped>\n",
       "    .dataframe tbody tr th:only-of-type {\n",
       "        vertical-align: middle;\n",
       "    }\n",
       "\n",
       "    .dataframe tbody tr th {\n",
       "        vertical-align: top;\n",
       "    }\n",
       "\n",
       "    .dataframe thead th {\n",
       "        text-align: right;\n",
       "    }\n",
       "</style>\n",
       "<table border=\"1\" class=\"dataframe\">\n",
       "  <thead>\n",
       "    <tr style=\"text-align: right;\">\n",
       "      <th></th>\n",
       "      <th>Python</th>\n",
       "      <th>CPU</th>\n",
       "      <th>GPUs</th>\n",
       "    </tr>\n",
       "  </thead>\n",
       "  <tbody>\n",
       "    <tr>\n",
       "      <th>0</th>\n",
       "      <td>3.8.13.final.0 (64 bit)</td>\n",
       "      <td>AMD Ryzen 7 2700X Eight-Core Processor</td>\n",
       "      <td>['device: 0, name: NVIDIA GeForce GTX 1080 Ti,...</td>\n",
       "    </tr>\n",
       "  </tbody>\n",
       "</table>\n",
       "</div>"
      ],
      "text/plain": [
       "                    Python                                     CPU  \\\n",
       "0  3.8.13.final.0 (64 bit)  AMD Ryzen 7 2700X Eight-Core Processor   \n",
       "\n",
       "                                                GPUs  \n",
       "0  ['device: 0, name: NVIDIA GeForce GTX 1080 Ti,...  "
      ]
     },
     "execution_count": 7,
     "metadata": {},
     "output_type": "execute_result"
    }
   ],
   "source": [
    "df_meta"
   ]
  },
  {
   "cell_type": "code",
   "execution_count": 8,
   "id": "irish-consultation",
   "metadata": {},
   "outputs": [
    {
     "data": {
      "text/html": [
       "<div>\n",
       "<style scoped>\n",
       "    .dataframe tbody tr th:only-of-type {\n",
       "        vertical-align: middle;\n",
       "    }\n",
       "\n",
       "    .dataframe tbody tr th {\n",
       "        vertical-align: top;\n",
       "    }\n",
       "\n",
       "    .dataframe thead th {\n",
       "        text-align: right;\n",
       "    }\n",
       "</style>\n",
       "<table border=\"1\" class=\"dataframe\">\n",
       "  <thead>\n",
       "    <tr style=\"text-align: right;\">\n",
       "      <th></th>\n",
       "      <th>Timestamp</th>\n",
       "      <th>CPU_Load</th>\n",
       "      <th>RAM_Avail</th>\n",
       "    </tr>\n",
       "  </thead>\n",
       "  <tbody>\n",
       "    <tr>\n",
       "      <th>0</th>\n",
       "      <td>2022-06-13 17:10:19.023930</td>\n",
       "      <td>13.0</td>\n",
       "      <td>5297213440</td>\n",
       "    </tr>\n",
       "    <tr>\n",
       "      <th>1</th>\n",
       "      <td>2022-06-13 17:10:37.556429</td>\n",
       "      <td>16.9</td>\n",
       "      <td>5002592256</td>\n",
       "    </tr>\n",
       "  </tbody>\n",
       "</table>\n",
       "</div>"
      ],
      "text/plain": [
       "                   Timestamp  CPU_Load   RAM_Avail\n",
       "0 2022-06-13 17:10:19.023930      13.0  5297213440\n",
       "1 2022-06-13 17:10:37.556429      16.9  5002592256"
      ]
     },
     "execution_count": 8,
     "metadata": {},
     "output_type": "execute_result"
    }
   ],
   "source": [
    "df_load"
   ]
  },
  {
   "cell_type": "code",
   "execution_count": 9,
   "id": "informational-hospital",
   "metadata": {},
   "outputs": [],
   "source": [
    "def plot_data_over_time(time, data, label):\n",
    "    plt.plot(time, data)\n",
    "    plt.xlabel('Time') \n",
    "    plt.ylabel(label)\n",
    "    plt.grid(True)\n",
    "    plt.show()"
   ]
  },
  {
   "cell_type": "code",
   "execution_count": 10,
   "id": "choice-appendix",
   "metadata": {},
   "outputs": [
    {
     "data": {
      "image/png": "[encoded data removed]",
      "text/plain": [
       "<Figure size 1080x720 with 1 Axes>"
      ]
     },
     "metadata": {
      "needs_background": "light"
     },
     "output_type": "display_data"
    }
   ],
   "source": [
    "plot_data_over_time(df_load['Timestamp'], df_load['CPU_Load'], 'CPU Load')"
   ]
  },
  {
   "cell_type": "code",
   "execution_count": 11,
   "id": "nonprofit-wisconsin",
   "metadata": {},
   "outputs": [
    {
     "data": {
      "image/png": "[encoded data removed]",
      "text/plain": [
       "<Figure size 440x432 with 1 Axes>"
      ]
     },
     "metadata": {
      "needs_background": "light"
     },
     "output_type": "display_data"
    }
   ],
   "source": [
    "sns.FacetGrid(df_load, height=6).map(sns.kdeplot, 'CPU_Load').add_legend()\n",
    "plt.title('CPU Load Distribution')\n",
    "plt.xlim(0, 100)\n",
    "plt.show()"
   ]
  },
  {
   "cell_type": "code",
   "execution_count": 12,
   "id": "level-devil",
   "metadata": {},
   "outputs": [
    {
     "data": {
      "image/png": "[encoded data removed]",
      "text/plain": [
       "<Figure size 440x432 with 1 Axes>"
      ]
     },
     "metadata": {
      "needs_background": "light"
     },
     "output_type": "display_data"
    }
   ],
   "source": [
    "sns.FacetGrid(df_load, height=6).map(sns.kdeplot, 'RAM_Avail').add_legend()\n",
    "plt.title('Memory Availability Distribution')\n",
    "plt.show()"
   ]
  },
  {
   "cell_type": "code",
   "execution_count": 13,
   "id": "valued-disaster",
   "metadata": {},
   "outputs": [
    {
     "data": {
      "text/html": [
       "<div>\n",
       "<style scoped>\n",
       "    .dataframe tbody tr th:only-of-type {\n",
       "        vertical-align: middle;\n",
       "    }\n",
       "\n",
       "    .dataframe tbody tr th {\n",
       "        vertical-align: top;\n",
       "    }\n",
       "\n",
       "    .dataframe thead th {\n",
       "        text-align: right;\n",
       "    }\n",
       "</style>\n",
       "<table border=\"1\" class=\"dataframe\">\n",
       "  <thead>\n",
       "    <tr style=\"text-align: right;\">\n",
       "      <th></th>\n",
       "      <th>Timestamp</th>\n",
       "      <th>Speed</th>\n",
       "      <th>Precision</th>\n",
       "      <th>Recall</th>\n",
       "      <th>F1_Score</th>\n",
       "      <th>Ious</th>\n",
       "      <th>Positives</th>\n",
       "      <th>False_Positives</th>\n",
       "      <th>Negatives</th>\n",
       "      <th>Num_Of_Faces</th>\n",
       "      <th>Predicted</th>\n",
       "      <th>Ground_Truth</th>\n",
       "    </tr>\n",
       "  </thead>\n",
       "  <tbody>\n",
       "    <tr>\n",
       "      <th>0</th>\n",
       "      <td>2022-06-13 17:10:22.253428</td>\n",
       "      <td>2651458500</td>\n",
       "      <td>1.0</td>\n",
       "      <td>1.0</td>\n",
       "      <td>1.0</td>\n",
       "      <td>[0.9082491582491582, 0.9106326219512195, 0.923...</td>\n",
       "      <td>8</td>\n",
       "      <td>0</td>\n",
       "      <td>0</td>\n",
       "      <td>8</td>\n",
       "      <td>[(909.0, 330.0, 975.0, 420.0), (717.0, 229.0, ...</td>\n",
       "      <td>[(909.0, 335.0, 974.0, 418.0), (786.0, 187.0, ...</td>\n",
       "    </tr>\n",
       "    <tr>\n",
       "      <th>1</th>\n",
       "      <td>2022-06-13 17:10:27.534428</td>\n",
       "      <td>5275407400</td>\n",
       "      <td>1.0</td>\n",
       "      <td>1.0</td>\n",
       "      <td>1.0</td>\n",
       "      <td>[0.8413917758698599]</td>\n",
       "      <td>1</td>\n",
       "      <td>0</td>\n",
       "      <td>0</td>\n",
       "      <td>1</td>\n",
       "      <td>[(555.0, 1231.0, 695.0, 1329.0)]</td>\n",
       "      <td>[(547.0, 1228.0, 688.0, 1333.0)]</td>\n",
       "    </tr>\n",
       "  </tbody>\n",
       "</table>\n",
       "</div>"
      ],
      "text/plain": [
       "                   Timestamp       Speed  Precision  Recall  F1_Score  \\\n",
       "0 2022-06-13 17:10:22.253428  2651458500        1.0     1.0       1.0   \n",
       "1 2022-06-13 17:10:27.534428  5275407400        1.0     1.0       1.0   \n",
       "\n",
       "                                                Ious  Positives  \\\n",
       "0  [0.9082491582491582, 0.9106326219512195, 0.923...          8   \n",
       "1                               [0.8413917758698599]          1   \n",
       "\n",
       "   False_Positives  Negatives  Num_Of_Faces  \\\n",
       "0                0          0             8   \n",
       "1                0          0             1   \n",
       "\n",
       "                                           Predicted  \\\n",
       "0  [(909.0, 330.0, 975.0, 420.0), (717.0, 229.0, ...   \n",
       "1                   [(555.0, 1231.0, 695.0, 1329.0)]   \n",
       "\n",
       "                                        Ground_Truth  \n",
       "0  [(909.0, 335.0, 974.0, 418.0), (786.0, 187.0, ...  \n",
       "1                   [(547.0, 1228.0, 688.0, 1333.0)]  "
      ]
     },
     "execution_count": 13,
     "metadata": {},
     "output_type": "execute_result"
    }
   ],
   "source": [
    "df"
   ]
  },
  {
   "cell_type": "code",
   "execution_count": 14,
   "id": "federal-greensboro",
   "metadata": {},
   "outputs": [
    {
     "data": {
      "text/html": [
       "<div>\n",
       "<style scoped>\n",
       "    .dataframe tbody tr th:only-of-type {\n",
       "        vertical-align: middle;\n",
       "    }\n",
       "\n",
       "    .dataframe tbody tr th {\n",
       "        vertical-align: top;\n",
       "    }\n",
       "\n",
       "    .dataframe thead th {\n",
       "        text-align: right;\n",
       "    }\n",
       "</style>\n",
       "<table border=\"1\" class=\"dataframe\">\n",
       "  <thead>\n",
       "    <tr style=\"text-align: right;\">\n",
       "      <th></th>\n",
       "      <th>Speed</th>\n",
       "      <th>Precision</th>\n",
       "      <th>Recall</th>\n",
       "      <th>F1_Score</th>\n",
       "      <th>Positives</th>\n",
       "      <th>False_Positives</th>\n",
       "      <th>Negatives</th>\n",
       "      <th>Num_Of_Faces</th>\n",
       "    </tr>\n",
       "  </thead>\n",
       "  <tbody>\n",
       "    <tr>\n",
       "      <th>count</th>\n",
       "      <td>2.000000e+00</td>\n",
       "      <td>2.0</td>\n",
       "      <td>2.0</td>\n",
       "      <td>2.0</td>\n",
       "      <td>2.000000</td>\n",
       "      <td>2.0</td>\n",
       "      <td>2.0</td>\n",
       "      <td>2.000000</td>\n",
       "    </tr>\n",
       "    <tr>\n",
       "      <th>mean</th>\n",
       "      <td>3.963433e+09</td>\n",
       "      <td>1.0</td>\n",
       "      <td>1.0</td>\n",
       "      <td>1.0</td>\n",
       "      <td>4.500000</td>\n",
       "      <td>0.0</td>\n",
       "      <td>0.0</td>\n",
       "      <td>4.500000</td>\n",
       "    </tr>\n",
       "    <tr>\n",
       "      <th>std</th>\n",
       "      <td>1.855412e+09</td>\n",
       "      <td>0.0</td>\n",
       "      <td>0.0</td>\n",
       "      <td>0.0</td>\n",
       "      <td>4.949747</td>\n",
       "      <td>0.0</td>\n",
       "      <td>0.0</td>\n",
       "      <td>4.949747</td>\n",
       "    </tr>\n",
       "    <tr>\n",
       "      <th>min</th>\n",
       "      <td>2.651458e+09</td>\n",
       "      <td>1.0</td>\n",
       "      <td>1.0</td>\n",
       "      <td>1.0</td>\n",
       "      <td>1.000000</td>\n",
       "      <td>0.0</td>\n",
       "      <td>0.0</td>\n",
       "      <td>1.000000</td>\n",
       "    </tr>\n",
       "    <tr>\n",
       "      <th>25%</th>\n",
       "      <td>3.307446e+09</td>\n",
       "      <td>1.0</td>\n",
       "      <td>1.0</td>\n",
       "      <td>1.0</td>\n",
       "      <td>2.750000</td>\n",
       "      <td>0.0</td>\n",
       "      <td>0.0</td>\n",
       "      <td>2.750000</td>\n",
       "    </tr>\n",
       "    <tr>\n",
       "      <th>50%</th>\n",
       "      <td>3.963433e+09</td>\n",
       "      <td>1.0</td>\n",
       "      <td>1.0</td>\n",
       "      <td>1.0</td>\n",
       "      <td>4.500000</td>\n",
       "      <td>0.0</td>\n",
       "      <td>0.0</td>\n",
       "      <td>4.500000</td>\n",
       "    </tr>\n",
       "    <tr>\n",
       "      <th>75%</th>\n",
       "      <td>4.619420e+09</td>\n",
       "      <td>1.0</td>\n",
       "      <td>1.0</td>\n",
       "      <td>1.0</td>\n",
       "      <td>6.250000</td>\n",
       "      <td>0.0</td>\n",
       "      <td>0.0</td>\n",
       "      <td>6.250000</td>\n",
       "    </tr>\n",
       "    <tr>\n",
       "      <th>max</th>\n",
       "      <td>5.275407e+09</td>\n",
       "      <td>1.0</td>\n",
       "      <td>1.0</td>\n",
       "      <td>1.0</td>\n",
       "      <td>8.000000</td>\n",
       "      <td>0.0</td>\n",
       "      <td>0.0</td>\n",
       "      <td>8.000000</td>\n",
       "    </tr>\n",
       "  </tbody>\n",
       "</table>\n",
       "</div>"
      ],
      "text/plain": [
       "              Speed  Precision  Recall  F1_Score  Positives  False_Positives  \\\n",
       "count  2.000000e+00        2.0     2.0       2.0   2.000000              2.0   \n",
       "mean   3.963433e+09        1.0     1.0       1.0   4.500000              0.0   \n",
       "std    1.855412e+09        0.0     0.0       0.0   4.949747              0.0   \n",
       "min    2.651458e+09        1.0     1.0       1.0   1.000000              0.0   \n",
       "25%    3.307446e+09        1.0     1.0       1.0   2.750000              0.0   \n",
       "50%    3.963433e+09        1.0     1.0       1.0   4.500000              0.0   \n",
       "75%    4.619420e+09        1.0     1.0       1.0   6.250000              0.0   \n",
       "max    5.275407e+09        1.0     1.0       1.0   8.000000              0.0   \n",
       "\n",
       "       Negatives  Num_Of_Faces  \n",
       "count        2.0      2.000000  \n",
       "mean         0.0      4.500000  \n",
       "std          0.0      4.949747  \n",
       "min          0.0      1.000000  \n",
       "25%          0.0      2.750000  \n",
       "50%          0.0      4.500000  \n",
       "75%          0.0      6.250000  \n",
       "max          0.0      8.000000  "
      ]
     },
     "execution_count": 14,
     "metadata": {},
     "output_type": "execute_result"
    }
   ],
   "source": [
    "df.describe()"
   ]
  },
  {
   "cell_type": "code",
   "execution_count": 15,
   "id": "equipped-disco",
   "metadata": {},
   "outputs": [
    {
     "data": {
      "text/plain": [
       "count       2.000000\n",
       "mean     3963.435000\n",
       "std      1855.412838\n",
       "min      2651.460000\n",
       "25%      3307.447500\n",
       "50%      3963.435000\n",
       "75%      4619.422500\n",
       "max      5275.410000\n",
       "Name: Speed, dtype: float64"
      ]
     },
     "execution_count": 15,
     "metadata": {},
     "output_type": "execute_result"
    }
   ],
   "source": [
    "speed = df['Speed'].div(1e6).round(2)\n",
    "speed.describe()"
   ]
  },
  {
   "cell_type": "markdown",
   "id": "nervous-theta",
   "metadata": {},
   "source": [
    "### Generate Precision/Recall columns"
   ]
  },
  {
   "cell_type": "code",
   "execution_count": 16,
   "id": "reasonable-thomas",
   "metadata": {},
   "outputs": [
    {
     "data": {
      "text/html": [
       "<div>\n",
       "<style scoped>\n",
       "    .dataframe tbody tr th:only-of-type {\n",
       "        vertical-align: middle;\n",
       "    }\n",
       "\n",
       "    .dataframe tbody tr th {\n",
       "        vertical-align: top;\n",
       "    }\n",
       "\n",
       "    .dataframe thead th {\n",
       "        text-align: right;\n",
       "    }\n",
       "</style>\n",
       "<table border=\"1\" class=\"dataframe\">\n",
       "  <thead>\n",
       "    <tr style=\"text-align: right;\">\n",
       "      <th></th>\n",
       "      <th>Confidence</th>\n",
       "      <th>TP_FP@25</th>\n",
       "      <th>TP_FP@50</th>\n",
       "      <th>TP_FP@75</th>\n",
       "      <th>Precision@25</th>\n",
       "      <th>Recall@25</th>\n",
       "      <th>Precision@50</th>\n",
       "      <th>Recall@50</th>\n",
       "      <th>Precision@75</th>\n",
       "      <th>Recall@75</th>\n",
       "    </tr>\n",
       "  </thead>\n",
       "  <tbody>\n",
       "    <tr>\n",
       "      <th>0</th>\n",
       "      <td>1329.38650</td>\n",
       "      <td>True</td>\n",
       "      <td>True</td>\n",
       "      <td>True</td>\n",
       "      <td>1.0</td>\n",
       "      <td>0.111111</td>\n",
       "      <td>1.0</td>\n",
       "      <td>0.111111</td>\n",
       "      <td>1.0</td>\n",
       "      <td>0.111111</td>\n",
       "    </tr>\n",
       "    <tr>\n",
       "      <th>1</th>\n",
       "      <td>475.50540</td>\n",
       "      <td>True</td>\n",
       "      <td>True</td>\n",
       "      <td>True</td>\n",
       "      <td>1.0</td>\n",
       "      <td>0.222222</td>\n",
       "      <td>1.0</td>\n",
       "      <td>0.222222</td>\n",
       "      <td>1.0</td>\n",
       "      <td>0.222222</td>\n",
       "    </tr>\n",
       "    <tr>\n",
       "      <th>2</th>\n",
       "      <td>420.30722</td>\n",
       "      <td>True</td>\n",
       "      <td>True</td>\n",
       "      <td>True</td>\n",
       "      <td>1.0</td>\n",
       "      <td>0.333333</td>\n",
       "      <td>1.0</td>\n",
       "      <td>0.333333</td>\n",
       "      <td>1.0</td>\n",
       "      <td>0.333333</td>\n",
       "    </tr>\n",
       "    <tr>\n",
       "      <th>3</th>\n",
       "      <td>411.08524</td>\n",
       "      <td>True</td>\n",
       "      <td>True</td>\n",
       "      <td>True</td>\n",
       "      <td>1.0</td>\n",
       "      <td>0.444444</td>\n",
       "      <td>1.0</td>\n",
       "      <td>0.444444</td>\n",
       "      <td>1.0</td>\n",
       "      <td>0.444444</td>\n",
       "    </tr>\n",
       "    <tr>\n",
       "      <th>4</th>\n",
       "      <td>311.42374</td>\n",
       "      <td>True</td>\n",
       "      <td>True</td>\n",
       "      <td>True</td>\n",
       "      <td>1.0</td>\n",
       "      <td>0.555556</td>\n",
       "      <td>1.0</td>\n",
       "      <td>0.555556</td>\n",
       "      <td>1.0</td>\n",
       "      <td>0.555556</td>\n",
       "    </tr>\n",
       "    <tr>\n",
       "      <th>5</th>\n",
       "      <td>290.56403</td>\n",
       "      <td>True</td>\n",
       "      <td>True</td>\n",
       "      <td>True</td>\n",
       "      <td>1.0</td>\n",
       "      <td>0.666667</td>\n",
       "      <td>1.0</td>\n",
       "      <td>0.666667</td>\n",
       "      <td>1.0</td>\n",
       "      <td>0.666667</td>\n",
       "    </tr>\n",
       "    <tr>\n",
       "      <th>6</th>\n",
       "      <td>245.58755</td>\n",
       "      <td>True</td>\n",
       "      <td>True</td>\n",
       "      <td>True</td>\n",
       "      <td>1.0</td>\n",
       "      <td>0.777778</td>\n",
       "      <td>1.0</td>\n",
       "      <td>0.777778</td>\n",
       "      <td>1.0</td>\n",
       "      <td>0.777778</td>\n",
       "    </tr>\n",
       "    <tr>\n",
       "      <th>7</th>\n",
       "      <td>242.27230</td>\n",
       "      <td>True</td>\n",
       "      <td>True</td>\n",
       "      <td>True</td>\n",
       "      <td>1.0</td>\n",
       "      <td>0.888889</td>\n",
       "      <td>1.0</td>\n",
       "      <td>0.888889</td>\n",
       "      <td>1.0</td>\n",
       "      <td>0.888889</td>\n",
       "    </tr>\n",
       "    <tr>\n",
       "      <th>8</th>\n",
       "      <td>113.90194</td>\n",
       "      <td>True</td>\n",
       "      <td>True</td>\n",
       "      <td>True</td>\n",
       "      <td>1.0</td>\n",
       "      <td>1.000000</td>\n",
       "      <td>1.0</td>\n",
       "      <td>1.000000</td>\n",
       "      <td>1.0</td>\n",
       "      <td>1.000000</td>\n",
       "    </tr>\n",
       "  </tbody>\n",
       "</table>\n",
       "</div>"
      ],
      "text/plain": [
       "   Confidence  TP_FP@25  TP_FP@50  TP_FP@75  Precision@25  Recall@25  \\\n",
       "0  1329.38650      True      True      True           1.0   0.111111   \n",
       "1   475.50540      True      True      True           1.0   0.222222   \n",
       "2   420.30722      True      True      True           1.0   0.333333   \n",
       "3   411.08524      True      True      True           1.0   0.444444   \n",
       "4   311.42374      True      True      True           1.0   0.555556   \n",
       "5   290.56403      True      True      True           1.0   0.666667   \n",
       "6   245.58755      True      True      True           1.0   0.777778   \n",
       "7   242.27230      True      True      True           1.0   0.888889   \n",
       "8   113.90194      True      True      True           1.0   1.000000   \n",
       "\n",
       "   Precision@50  Recall@50  Precision@75  Recall@75  \n",
       "0           1.0   0.111111           1.0   0.111111  \n",
       "1           1.0   0.222222           1.0   0.222222  \n",
       "2           1.0   0.333333           1.0   0.333333  \n",
       "3           1.0   0.444444           1.0   0.444444  \n",
       "4           1.0   0.555556           1.0   0.555556  \n",
       "5           1.0   0.666667           1.0   0.666667  \n",
       "6           1.0   0.777778           1.0   0.777778  \n",
       "7           1.0   0.888889           1.0   0.888889  \n",
       "8           1.0   1.000000           1.0   1.000000  "
      ]
     },
     "execution_count": 16,
     "metadata": {},
     "output_type": "execute_result"
    }
   ],
   "source": [
    "all_gts = df['Positives'].sum() + df['Negatives'].sum()\n",
    "df_ap = calc_precision_recall(df_ap, all_gts)\n",
    "\n",
    "df_ap"
   ]
  },
  {
   "cell_type": "code",
   "execution_count": 17,
   "id": "annoying-webmaster",
   "metadata": {},
   "outputs": [
    {
     "data": {
      "text/html": [
       "<div>\n",
       "<style scoped>\n",
       "    .dataframe tbody tr th:only-of-type {\n",
       "        vertical-align: middle;\n",
       "    }\n",
       "\n",
       "    .dataframe tbody tr th {\n",
       "        vertical-align: top;\n",
       "    }\n",
       "\n",
       "    .dataframe thead th {\n",
       "        text-align: right;\n",
       "    }\n",
       "</style>\n",
       "<table border=\"1\" class=\"dataframe\">\n",
       "  <thead>\n",
       "    <tr style=\"text-align: right;\">\n",
       "      <th></th>\n",
       "      <th>Confidence</th>\n",
       "      <th>TP_FP@25</th>\n",
       "      <th>TP_FP@50</th>\n",
       "      <th>TP_FP@75</th>\n",
       "      <th>Precision@25</th>\n",
       "      <th>Recall@25</th>\n",
       "      <th>Precision@50</th>\n",
       "      <th>Recall@50</th>\n",
       "      <th>Precision@75</th>\n",
       "      <th>Recall@75</th>\n",
       "    </tr>\n",
       "  </thead>\n",
       "  <tbody>\n",
       "    <tr>\n",
       "      <th>0</th>\n",
       "      <td>1329.38650</td>\n",
       "      <td>True</td>\n",
       "      <td>True</td>\n",
       "      <td>True</td>\n",
       "      <td>1.0</td>\n",
       "      <td>0.111111</td>\n",
       "      <td>1.0</td>\n",
       "      <td>0.111111</td>\n",
       "      <td>1.0</td>\n",
       "      <td>0.111111</td>\n",
       "    </tr>\n",
       "    <tr>\n",
       "      <th>1</th>\n",
       "      <td>475.50540</td>\n",
       "      <td>True</td>\n",
       "      <td>True</td>\n",
       "      <td>True</td>\n",
       "      <td>1.0</td>\n",
       "      <td>0.222222</td>\n",
       "      <td>1.0</td>\n",
       "      <td>0.222222</td>\n",
       "      <td>1.0</td>\n",
       "      <td>0.222222</td>\n",
       "    </tr>\n",
       "    <tr>\n",
       "      <th>2</th>\n",
       "      <td>420.30722</td>\n",
       "      <td>True</td>\n",
       "      <td>True</td>\n",
       "      <td>True</td>\n",
       "      <td>1.0</td>\n",
       "      <td>0.333333</td>\n",
       "      <td>1.0</td>\n",
       "      <td>0.333333</td>\n",
       "      <td>1.0</td>\n",
       "      <td>0.333333</td>\n",
       "    </tr>\n",
       "    <tr>\n",
       "      <th>3</th>\n",
       "      <td>411.08524</td>\n",
       "      <td>True</td>\n",
       "      <td>True</td>\n",
       "      <td>True</td>\n",
       "      <td>1.0</td>\n",
       "      <td>0.444444</td>\n",
       "      <td>1.0</td>\n",
       "      <td>0.444444</td>\n",
       "      <td>1.0</td>\n",
       "      <td>0.444444</td>\n",
       "    </tr>\n",
       "    <tr>\n",
       "      <th>4</th>\n",
       "      <td>311.42374</td>\n",
       "      <td>True</td>\n",
       "      <td>True</td>\n",
       "      <td>True</td>\n",
       "      <td>1.0</td>\n",
       "      <td>0.555556</td>\n",
       "      <td>1.0</td>\n",
       "      <td>0.555556</td>\n",
       "      <td>1.0</td>\n",
       "      <td>0.555556</td>\n",
       "    </tr>\n",
       "    <tr>\n",
       "      <th>5</th>\n",
       "      <td>290.56403</td>\n",
       "      <td>True</td>\n",
       "      <td>True</td>\n",
       "      <td>True</td>\n",
       "      <td>1.0</td>\n",
       "      <td>0.666667</td>\n",
       "      <td>1.0</td>\n",
       "      <td>0.666667</td>\n",
       "      <td>1.0</td>\n",
       "      <td>0.666667</td>\n",
       "    </tr>\n",
       "    <tr>\n",
       "      <th>6</th>\n",
       "      <td>245.58755</td>\n",
       "      <td>True</td>\n",
       "      <td>True</td>\n",
       "      <td>True</td>\n",
       "      <td>1.0</td>\n",
       "      <td>0.777778</td>\n",
       "      <td>1.0</td>\n",
       "      <td>0.777778</td>\n",
       "      <td>1.0</td>\n",
       "      <td>0.777778</td>\n",
       "    </tr>\n",
       "    <tr>\n",
       "      <th>7</th>\n",
       "      <td>242.27230</td>\n",
       "      <td>True</td>\n",
       "      <td>True</td>\n",
       "      <td>True</td>\n",
       "      <td>1.0</td>\n",
       "      <td>0.888889</td>\n",
       "      <td>1.0</td>\n",
       "      <td>0.888889</td>\n",
       "      <td>1.0</td>\n",
       "      <td>0.888889</td>\n",
       "    </tr>\n",
       "    <tr>\n",
       "      <th>8</th>\n",
       "      <td>113.90194</td>\n",
       "      <td>True</td>\n",
       "      <td>True</td>\n",
       "      <td>True</td>\n",
       "      <td>1.0</td>\n",
       "      <td>1.000000</td>\n",
       "      <td>1.0</td>\n",
       "      <td>1.000000</td>\n",
       "      <td>1.0</td>\n",
       "      <td>1.000000</td>\n",
       "    </tr>\n",
       "  </tbody>\n",
       "</table>\n",
       "</div>"
      ],
      "text/plain": [
       "   Confidence  TP_FP@25  TP_FP@50  TP_FP@75  Precision@25  Recall@25  \\\n",
       "0  1329.38650      True      True      True           1.0   0.111111   \n",
       "1   475.50540      True      True      True           1.0   0.222222   \n",
       "2   420.30722      True      True      True           1.0   0.333333   \n",
       "3   411.08524      True      True      True           1.0   0.444444   \n",
       "4   311.42374      True      True      True           1.0   0.555556   \n",
       "5   290.56403      True      True      True           1.0   0.666667   \n",
       "6   245.58755      True      True      True           1.0   0.777778   \n",
       "7   242.27230      True      True      True           1.0   0.888889   \n",
       "8   113.90194      True      True      True           1.0   1.000000   \n",
       "\n",
       "   Precision@50  Recall@50  Precision@75  Recall@75  \n",
       "0           1.0   0.111111           1.0   0.111111  \n",
       "1           1.0   0.222222           1.0   0.222222  \n",
       "2           1.0   0.333333           1.0   0.333333  \n",
       "3           1.0   0.444444           1.0   0.444444  \n",
       "4           1.0   0.555556           1.0   0.555556  \n",
       "5           1.0   0.666667           1.0   0.666667  \n",
       "6           1.0   0.777778           1.0   0.777778  \n",
       "7           1.0   0.888889           1.0   0.888889  \n",
       "8           1.0   1.000000           1.0   1.000000  "
      ]
     },
     "execution_count": 17,
     "metadata": {},
     "output_type": "execute_result"
    }
   ],
   "source": [
    "all_gts_filtered = df_filtered['Positives'].sum() + df_filtered['Negatives'].sum()\n",
    "df_ap_filtered = calc_precision_recall(df_ap_filtered, all_gts_filtered)\n",
    "\n",
    "df_ap_filtered"
   ]
  },
  {
   "cell_type": "code",
   "execution_count": 18,
   "id": "painted-blues",
   "metadata": {},
   "outputs": [],
   "source": [
    "def plot_pr(df_data, title):\n",
    "    ap = calc_ap(df_data['Precision@25'], df_data['Recall@25'])\n",
    "    plt.plot(df_data['Recall@25'], df_data['Precision@25'], color='darkcyan', lw=3, label=\"AP@0.25=%.2f\" % ap)\n",
    "    plt.axvline(x = df_data['Recall@25'][df_data.index[-1]], ymax=df_data['Precision@25'][df_data.index[-1]], color = 'darkcyan')\n",
    "    \n",
    "    ap = calc_ap(df_data['Precision@50'], df_data['Recall@50'])\n",
    "    plt.plot(df_data['Recall@50'], df_data['Precision@50'], color='darkorange', lw=3, label=\"AP@0.5=%.2f\" % ap)\n",
    "    plt.axvline(x = df_data['Recall@50'][df_data.index[-1]], ymax=df_data['Precision@50'][df_data.index[-1]], color = 'darkorange')\n",
    "    \n",
    "    ap = calc_ap(df_data['Precision@75'], df_data['Recall@75'])\n",
    "    plt.plot(df_data['Recall@75'], df_data['Precision@75'], color='mediumorchid', lw=3, label=\"AP@0.75=%.2f\" % ap)\n",
    "    plt.axvline(x = df_data['Recall@75'][df_data.index[-1]], ymax=df_data['Precision@75'][df_data.index[-1]], color = 'mediumorchid')\n",
    "    \n",
    "    plt.xlim(0, 1.00)\n",
    "    plt.ylim(0, 1.00)\n",
    "\n",
    "    plt.title(title)\n",
    "    plt.xlabel('Recall')\n",
    "    plt.ylabel('Precision')\n",
    "    plt.legend(loc=\"lower right\", prop={'size': 16})\n",
    "    plt.grid(True)\n",
    "\n",
    "    plt.show()"
   ]
  },
  {
   "cell_type": "code",
   "execution_count": 19,
   "id": "adolescent-setting",
   "metadata": {
    "scrolled": false
   },
   "outputs": [
    {
     "data": {
      "image/png": "[encoded data removed]",
      "text/plain": [
       "<Figure size 1080x720 with 1 Axes>"
      ]
     },
     "metadata": {
      "needs_background": "light"
     },
     "output_type": "display_data"
    }
   ],
   "source": [
    "plot_pr(df_ap, 'S3FD Average Precision on WIDER FACE')"
   ]
  },
  {
   "cell_type": "code",
   "execution_count": 20,
   "id": "married-overall",
   "metadata": {},
   "outputs": [
    {
     "data": {
      "image/png": "[encoded data removed]",
      "text/plain": [
       "<Figure size 1080x720 with 1 Axes>"
      ]
     },
     "metadata": {
      "needs_background": "light"
     },
     "output_type": "display_data"
    }
   ],
   "source": [
    "plot_pr(df_ap_filtered, 'S3FD Average Precision on filtered WIDER FACE')"
   ]
  },
  {
   "cell_type": "markdown",
   "id": "complete-stage",
   "metadata": {},
   "source": [
    "# S3FD Video detection"
   ]
  },
  {
   "cell_type": "code",
   "execution_count": 21,
   "id": "imposed-gregory",
   "metadata": {},
   "outputs": [],
   "source": [
    "test = tfds.load('choke_point', split=['test'])"
   ]
  },
  {
   "cell_type": "code",
   "execution_count": 22,
   "id": "hispanic-respondent",
   "metadata": {},
   "outputs": [],
   "source": [
    "data = test[0]"
   ]
  },
  {
   "cell_type": "code",
   "execution_count": 23,
   "id": "hollywood-bandwidth",
   "metadata": {},
   "outputs": [
    {
     "name": "stdout",
     "output_type": "stream",
     "text": [
      "Running on device: cpu\n"
     ]
    }
   ],
   "source": [
    "class S3fdDetector(Detector):\n",
    "    def __init__(self):\n",
    "        self.detector = FaceDetectionEngine(weights_path=\"./models/s3fd/s3fd_convert.pth\")\n",
    "        device = torch.device('cuda:0' if torch.cuda.is_available() else 'cpu')\n",
    "        print('Running on device: {}'.format(device))\n",
    "        \n",
    "    def detect(self, image):\n",
    "        preds, scores = self.detector.predict(image, dilate_bbox=False)\n",
    "\n",
    "        return preds, scores\n",
    "\n",
    "s3fd = S3fdDetector()"
   ]
  },
  {
   "cell_type": "code",
   "execution_count": 24,
   "id": "artistic-springfield",
   "metadata": {
    "scrolled": false
   },
   "outputs": [
    {
     "name": "stdout",
     "output_type": "stream",
     "text": [
      "Frames: [====================] 100% [37/37], Videos: [2/2]"
     ]
    }
   ],
   "source": [
    "stt_aps, detection_percentages, mean_confidences, mean_inference_times = run_detection_video(\n",
    "    samples=data, \n",
    "    detector=s3fd,\n",
    "    results_folder=\"s3fd\",\n",
    "    save_videos=True\n",
    ")"
   ]
  },
  {
   "cell_type": "code",
   "execution_count": 25,
   "id": "boring-energy",
   "metadata": {},
   "outputs": [
    {
     "name": "stdout",
     "output_type": "stream",
     "text": [
      "Mean Video STT-AP: 0.69\n",
      "Mean detection percentage of faces in all videos: 100.00\n",
      "Mean confidence of boxes in all videos: 415.42\n",
      "Mean inference time for all frames: 1746.64ms\n"
     ]
    }
   ],
   "source": [
    "print(\"Mean Video STT-AP: {0:.2f}\".format(np.mean(stt_aps)))\n",
    "print(\"Mean detection percentage of faces in all videos: {:.2f}\".format(np.mean(detection_percentages)))\n",
    "print(\"Mean confidence of boxes in all videos: {:.2f}\".format(np.mean(mean_confidences)))\n",
    "print(\"Mean inference time for all frames: {:.2f}ms\".format(np.mean(mean_inference_times) / 1e+6))"
   ]
  }
 ],
 "metadata": {
  "kernelspec": {
   "display_name": "Python 3 (ipykernel)",
   "language": "python",
   "name": "python3"
  },
  "language_info": {
   "codemirror_mode": {
    "name": "ipython",
    "version": 3
   },
   "file_extension": ".py",
   "mimetype": "text/x-python",
   "name": "python",
   "nbconvert_exporter": "python",
   "pygments_lexer": "ipython3",
   "version": "3.8.13"
  }
 },
 "nbformat": 4,
 "nbformat_minor": 5
}
