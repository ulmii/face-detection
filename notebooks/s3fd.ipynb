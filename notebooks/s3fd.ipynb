{
 "cells": [
  {
   "cell_type": "code",
   "execution_count": 1,
   "id": "vital-engineer",
   "metadata": {},
   "outputs": [],
   "source": [
    "import sys\n",
    "sys.path.append('../src/')\n",
    "\n",
    "from benchmark.tools import *\n",
    "from benchmark.models import Detector\n",
    "from benchmark.utils import TsvHandle, run_detection\n",
    "\n",
    "import torch\n",
    "import wider_dataset\n",
    "\n",
    "# https://github.com/kiselev1189/face-detector-s3fd\n",
    "from sfd_face_detector.detect_engine import FaceDetectionEngine"
   ]
  },
  {
   "cell_type": "code",
   "execution_count": 2,
   "id": "accepted-pacific",
   "metadata": {},
   "outputs": [],
   "source": [
    "train, test, validation = tfds.load('wider_dataset', split=['train', 'test', 'validation'])"
   ]
  },
  {
   "cell_type": "code",
   "execution_count": 3,
   "id": "corrected-diary",
   "metadata": {},
   "outputs": [],
   "source": [
    "data = validation"
   ]
  },
  {
   "cell_type": "code",
   "execution_count": 4,
   "id": "potential-opera",
   "metadata": {},
   "outputs": [
    {
     "name": "stdout",
     "output_type": "stream",
     "text": [
      "Running on device: cpu\n"
     ]
    }
   ],
   "source": [
    "class S3fdDetector(Detector):\n",
    "    def __init__(self):\n",
    "        self.detector = FaceDetectionEngine(weights_path=\"../src/sfd_face_detector/s3fd_convert.pth\")\n",
    "        device = torch.device('cuda:0' if torch.cuda.is_available() else 'cpu')\n",
    "        print('Running on device: {}'.format(device))\n",
    "        \n",
    "    def detect(self, image):\n",
    "        preds, scores = self.detector.predict(image, dilate_bbox=False)\n",
    "\n",
    "        return preds, scores\n",
    "\n",
    "s3fd = S3fdDetector()"
   ]
  },
  {
   "cell_type": "code",
   "execution_count": 5,
   "id": "revolutionary-ultimate",
   "metadata": {
    "scrolled": false
   },
   "outputs": [
    {
     "name": "stdout",
     "output_type": "stream",
     "text": [
      "Running detection\n",
      "[====================] 100% [3226/3226]"
     ]
    }
   ],
   "source": [
    "with TsvHandle('s3fd_filtered') as tsv:\n",
    "    run_detection(tsv, data, s3fd, None, False, False, None, 2000)"
   ]
  }
 ],
 "metadata": {
  "kernelspec": {
   "display_name": "Python 3 (ipykernel)",
   "language": "python",
   "name": "python3"
  },
  "language_info": {
   "codemirror_mode": {
    "name": "ipython",
    "version": 3
   },
   "file_extension": ".py",
   "mimetype": "text/x-python",
   "name": "python",
   "nbconvert_exporter": "python",
   "pygments_lexer": "ipython3",
   "version": "3.8.13"
  }
 },
 "nbformat": 4,
 "nbformat_minor": 5
}
