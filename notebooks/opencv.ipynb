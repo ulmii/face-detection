{
 "cells": [
  {
   "cell_type": "code",
   "execution_count": 1,
   "id": "vital-engineer",
   "metadata": {},
   "outputs": [],
   "source": [
    "import sys\n",
    "sys.path.append('../src/')\n",
    "\n",
    "from benchmark.tools import *\n",
    "from benchmark.models import Detector\n",
    "from benchmark.utils import TsvHandle, run_detection\n",
    "\n",
    "import wider_dataset\n",
    "import cv2"
   ]
  },
  {
   "cell_type": "code",
   "execution_count": 2,
   "id": "b34086b4",
   "metadata": {},
   "outputs": [],
   "source": [
    "train, test, validation = tfds.load('wider_dataset', split=['train', 'test', 'validation'])\n",
    "\n",
    "data = validation"
   ]
  },
  {
   "cell_type": "code",
   "execution_count": 3,
   "id": "electrical-switzerland",
   "metadata": {},
   "outputs": [],
   "source": [
    "class OpenCvDetector(Detector):\n",
    "    def __init__(self):\n",
    "        self.detector = cv2.CascadeClassifier('Haarcascades/haarcascade_frontalface_default.xml')\n",
    "    \n",
    "    def detect(self, image):\n",
    "        boxes, confidence = self.detector.detectMultiScale2(\n",
    "            image, \n",
    "            scaleFactor=1.1, \n",
    "            minNeighbors=5,\n",
    "            minSize=(30, 30),\n",
    "            flags=cv2.CASCADE_SCALE_IMAGE)\n",
    "\n",
    "        return boxes, confidence"
   ]
  },
  {
   "cell_type": "code",
   "execution_count": 4,
   "id": "activated-bachelor",
   "metadata": {
    "scrolled": false
   },
   "outputs": [],
   "source": [
    "opencv = OpenCvDetector()"
   ]
  },
  {
   "cell_type": "code",
   "execution_count": 5,
   "id": "generic-pledge",
   "metadata": {
    "scrolled": false
   },
   "outputs": [
    {
     "name": "stdout",
     "output_type": "stream",
     "text": [
      "Running detection\n",
      "[====================] 100% [3226/3226]"
     ]
    }
   ],
   "source": [
    "with TsvHandle('opencv_filtered') as tsv:\n",
    "    run_detection(tsv, data, opencv, cv2.COLOR_RGB2BGR, True, False, None, 2000)"
   ]
  }
 ],
 "metadata": {
  "kernelspec": {
   "display_name": "Python 3",
   "language": "python",
   "name": "python3"
  },
  "language_info": {
   "codemirror_mode": {
    "name": "ipython",
    "version": 3
   },
   "file_extension": ".py",
   "mimetype": "text/x-python",
   "name": "python",
   "nbconvert_exporter": "python",
   "pygments_lexer": "ipython3",
   "version": "3.8.8"
  }
 },
 "nbformat": 4,
 "nbformat_minor": 5
}
