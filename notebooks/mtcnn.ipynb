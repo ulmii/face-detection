{
 "cells": [
  {
   "cell_type": "code",
   "execution_count": 1,
   "id": "vital-engineer",
   "metadata": {},
   "outputs": [],
   "source": [
    "import sys\n",
    "sys.path.append('../src/')\n",
    "\n",
    "from benchmark.tools import *\n",
    "from benchmark.models import Accuracy, Face, Box, Prediction, ImageFaces, Detector\n",
    "from benchmark.utils import TsvHandle, load_aflw, tf_to_image_faces, get_box_id, run_detection\n",
    "from benchmark.stats import predictions_summary\n",
    "\n",
    "import wider_dataset\n",
    "from facenet_pytorch import MTCNN"
   ]
  },
  {
   "cell_type": "code",
   "execution_count": 2,
   "id": "accepted-pacific",
   "metadata": {},
   "outputs": [],
   "source": [
    "train, test, validation = tfds.load('wider_dataset', split=['train', 'test', 'validation'])"
   ]
  },
  {
   "cell_type": "code",
   "execution_count": 3,
   "id": "corrected-diary",
   "metadata": {},
   "outputs": [],
   "source": [
    "data = validation"
   ]
  },
  {
   "cell_type": "code",
   "execution_count": 4,
   "id": "potential-opera",
   "metadata": {},
   "outputs": [],
   "source": [
    "class MtcnnDetector(Detector):\n",
    "    def __init__(self):\n",
    "        self.detector = MTCNN(margin=14,\n",
    "                            factor=0.6,\n",
    "                            keep_all=True)\n",
    "    \n",
    "    def detect(self, image):\n",
    "        boxes, confidence = self.detector.detect(image)\n",
    "        return boxes, confidence"
   ]
  },
  {
   "cell_type": "code",
   "execution_count": 5,
   "id": "innocent-distributor",
   "metadata": {},
   "outputs": [],
   "source": [
    "mtcnn = MtcnnDetector()"
   ]
  },
  {
   "cell_type": "code",
   "execution_count": 6,
   "id": "revolutionary-ultimate",
   "metadata": {
    "scrolled": false
   },
   "outputs": [
    {
     "name": "stdout",
     "output_type": "stream",
     "text": [
      "Running detection\n",
      "[====================] 100% [3226/3226]"
     ]
    }
   ],
   "source": [
    "with TsvHandle('mtcnn') as tsv:\n",
    "    run_detection(tsv, data, mtcnn, False, False)"
   ]
  }
 ],
 "metadata": {
  "kernelspec": {
   "display_name": "Python 3",
   "language": "python",
   "name": "python3"
  },
  "language_info": {
   "codemirror_mode": {
    "name": "ipython",
    "version": 3
   },
   "file_extension": ".py",
   "mimetype": "text/x-python",
   "name": "python",
   "nbconvert_exporter": "python",
   "pygments_lexer": "ipython3",
   "version": "3.8.8"
  }
 },
 "nbformat": 4,
 "nbformat_minor": 5
}
