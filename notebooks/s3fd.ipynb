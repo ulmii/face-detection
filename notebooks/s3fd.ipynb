{
 "cells": [
  {
   "cell_type": "code",
   "execution_count": 1,
   "id": "vital-engineer",
   "metadata": {},
   "outputs": [
    {
     "name": "stderr",
     "output_type": "stream",
     "text": [
      "D:\\anaconda3\\envs\\s3fd\\lib\\site-packages\\Cython\\Compiler\\Main.py:369: FutureWarning: Cython directive 'language_level' not set, using 2 for now (Py2). This will change in a later release! File: D:\\P\\mgr\\face-detection\\src\\sfd_face_detector\\iou.pyx\n",
      "  tree = Parsing.p_module(s, pxd, full_module_name)\n"
     ]
    }
   ],
   "source": [
    "import sys\n",
    "sys.path.append('../src/')\n",
    "\n",
    "from benchmark.tools import *\n",
    "from benchmark.models import Detector\n",
    "from benchmark.utils import TsvHandle, run_detection\n",
    "\n",
    "import torch\n",
    "import wider_dataset\n",
    "\n",
    "# https://github.com/kiselev1189/face-detector-s3fd\n",
    "from sfd_face_detector.detect_engine import FaceDetectionEngine"
   ]
  },
  {
   "cell_type": "code",
   "execution_count": 2,
   "id": "accepted-pacific",
   "metadata": {},
   "outputs": [],
   "source": [
    "train, test, validation = tfds.load('wider_dataset', split=['train', 'test', 'validation'])"
   ]
  },
  {
   "cell_type": "code",
   "execution_count": 3,
   "id": "corrected-diary",
   "metadata": {},
   "outputs": [],
   "source": [
    "data = validation.take(30)"
   ]
  },
  {
   "cell_type": "code",
   "execution_count": 4,
   "id": "potential-opera",
   "metadata": {},
   "outputs": [],
   "source": [
    "class Sf3dDetector(Detector):\n",
    "    def __init__(self):\n",
    "        self.detector = FaceDetectionEngine(weights_path=\"../src/face_detector/s3fd_convert.pth\")\n",
    "        device = torch.device('cuda:0' if torch.cuda.is_available() else 'cpu')\n",
    "        print('Running on device: {}'.format(device))\n",
    "        \n",
    "    def detect(self, image):\n",
    "        preds = self.detector.predict(image, dilate_bbox=True)\n",
    "\n",
    "        return preds, [0] * len(preds)"
   ]
  },
  {
   "cell_type": "code",
   "execution_count": 5,
   "id": "innocent-distributor",
   "metadata": {},
   "outputs": [
    {
     "name": "stderr",
     "output_type": "stream",
     "text": [
      "\n",
      "KeyboardInterrupt\n",
      "\n"
     ]
    }
   ],
   "source": [
    "sf3d = Sf3dDetector()"
   ]
  },
  {
   "cell_type": "code",
   "execution_count": null,
   "id": "revolutionary-ultimate",
   "metadata": {
    "scrolled": false
   },
   "outputs": [],
   "source": [
    "with TsvHandle('sf3d') as tsv:\n",
    "    run_detection(tsv, data, sf3d, None, False, True, None)"
   ]
  }
 ],
 "metadata": {
  "kernelspec": {
   "display_name": "Python 3 (ipykernel)",
   "language": "python",
   "name": "python3"
  },
  "language_info": {
   "codemirror_mode": {
    "name": "ipython",
    "version": 3
   },
   "file_extension": ".py",
   "mimetype": "text/x-python",
   "name": "python",
   "nbconvert_exporter": "python",
   "pygments_lexer": "ipython3",
   "version": "3.8.13"
  }
 },
 "nbformat": 4,
 "nbformat_minor": 5
}
